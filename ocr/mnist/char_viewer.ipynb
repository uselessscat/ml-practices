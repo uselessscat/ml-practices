{
 "cells": [
  {
   "cell_type": "code",
   "execution_count": null,
   "source": [
    "import struct\r\n",
    "import numpy as np\r\n",
    "import matplotlib.pyplot as plt\r\n",
    "\r\n",
    "file = open('train-images.idx3-ubyte', 'rb')\r\n",
    "\r\n",
    "# data is enconded in high-endian\r\n",
    "HEADER_SIZE = 4 * 4  # four integers\r\n",
    "magic, image_count, image_heigth, image_width = \\\r\n",
    "    struct.unpack('>iiii', file.read(HEADER_SIZE))\r\n",
    "\r\n",
    "print(\r\n",
    "    f'magic: {magic}, images: {image_count}, '\r\n",
    "    f'{image_width}x{image_heigth} pixels'\r\n",
    ")\r\n",
    "\r\n",
    "# load all dataset to memory\r\n",
    "images = np.frombuffer(\r\n",
    "    file.read(image_count * image_width * image_heigth),\r\n",
    "    dtype='ubyte'\r\n",
    ").reshape(image_count, image_width, image_heigth)\r\n",
    "\r\n",
    "file.close()"
   ],
   "outputs": [],
   "metadata": {}
  },
  {
   "cell_type": "code",
   "execution_count": null,
   "source": [
    "image_number = 0\r\n",
    "\r\n",
    "plt.imshow(images[image_number], cmap='gray_r')"
   ],
   "outputs": [],
   "metadata": {}
  }
 ],
 "metadata": {
  "orig_nbformat": 4,
  "language_info": {
   "name": "python",
   "version": "3.9.1",
   "mimetype": "text/x-python",
   "codemirror_mode": {
    "name": "ipython",
    "version": 3
   },
   "pygments_lexer": "ipython3",
   "nbconvert_exporter": "python",
   "file_extension": ".py"
  },
  "kernelspec": {
   "name": "python3",
   "display_name": "Python 3.9.1 64-bit"
  },
  "interpreter": {
   "hash": "cf49e42d8ae526647a552259a46dfa8f53ce985d9771a2498166807dc176ee60"
  }
 },
 "nbformat": 4,
 "nbformat_minor": 2
}