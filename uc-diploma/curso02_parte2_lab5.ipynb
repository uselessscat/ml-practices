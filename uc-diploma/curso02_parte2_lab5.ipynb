{
  "cells": [
    {
      "cell_type": "markdown",
      "metadata": {
        "id": "fH1tvpj3vtDT"
      },
      "source": [
        "# **Diplomado IA: Inteligencia Artificial I - Parte 2**. <br> Práctico 5: Ejercicio Práctico: Recomendación de Contenido\n",
        "---\n",
        "---\n",
        "\n",
        "**Profesores:**\n",
        "- Julio Hurtado\n",
        "- Felipe del Río\n",
        "\n",
        "**Ayudante:**\n",
        "- Mathias Lambert\n",
        "---\n",
        "---\n",
        "Fecha de Entrega: 22 de Octubre"
      ]
    },
    {
      "cell_type": "markdown",
      "metadata": {
        "id": "-3ZMIswFQ0bI"
      },
      "source": [
        "Nombre alumno:"
      ]
    },
    {
      "cell_type": "markdown",
      "metadata": {
        "id": "DButPYXBwCpP"
      },
      "source": [
        "# Agenda"
      ]
    },
    {
      "cell_type": "markdown",
      "metadata": {
        "id": "DT_ikHrjv8pU"
      },
      "source": [
        "Diplomado IA: Inteligencia Artificial I - Parte 2.  Práctico 5: Recomendación de Contenido\n",
        "\n",
        "<!-- Agenda:\n",
        " * Problema\n",
        " * Preparación\n",
        " * Entrenamiento\n",
        " * Recomendación -->\n",
        "\n",
        "Problema\n",
        "\n",
        "Preparación\n",
        "\n",
        "> Datos\n",
        "\n",
        "> Instalación de librerias\n",
        "\n",
        "Entrenamiento\n",
        "\n",
        "> Dataset\n",
        "\n",
        "> Funciones de Entrenamiento\n",
        "\n",
        "> Funciones para mostrar resultados\n",
        "\n",
        "> Modelo\n",
        "\n",
        "> Entrenamiento\n",
        "\n",
        "Recomendación\n",
        "\n",
        "> Obtención de Descriptores\n",
        "\n",
        "> Encontrar similares\n",
        "\n",
        "> Recomendación\n",
        "\n",
        "> Metricas de Comparación\n"
      ]
    },
    {
      "cell_type": "markdown",
      "metadata": {
        "id": "gjjYnMxHdN_2"
      },
      "source": [
        "# Objetivo del Laboratorio\n",
        " \n",
        "Una parte importante para consolidar nuevos conocimientos es ponerlos en práctica. Después de algunas clases donde hemos visto varios métodos y algoritmos diferentes es bueno tomar una pausa para poder aplicar estos conocimientos. \n",
        "\n",
        "En este laboratorio los aplicaremos a un ejemplo más real que los que hemos visto en laboratorios anteriores. El objetivo es corroborar el entendimiento de los conceptos claves, y que después podremos ser capaces de aplicarlos en diferentes problemas que nos podemos encontrar en la vida real.\n"
      ]
    },
    {
      "cell_type": "markdown",
      "metadata": {
        "id": "sdIHECXCVool"
      },
      "source": [
        "## Problema\n",
        " \n",
        "En este laboratorio aplicaremos los conocimientos vistos en las clases anteriores para entrenar un modelo que pueda recomendar contenido a un usuario de una red social, en base a sus interacciones pasadas.\n",
        " \n",
        "En esta red social, una interacción está conformada por una imagen y un comentario, escrito por un usuario. El objetivo es generar una reacción en los usuarios, por lo que debemos recomendar o mostrarle imágenes de otros usuarios que tienen imágenes con textos similares. Por esta razón, tenemos que tener acceso tanto a las imágenes como al texto escrito por los usuarios para poder encontrar recomendaciones que causen un accionar en el usuario.\n"
      ]
    },
    {
      "cell_type": "markdown",
      "metadata": {
        "id": "DV6HOzuf1-JH"
      },
      "source": [
        "## Disclaimer\n",
        "\n",
        "Existen muchas formas de resolver este problema. El objetivo de este laboratorio no es encontrar la mejor forma de resolver el problema, sino que aprender a plantear un problema real, viendo alternativas y complejidades que puedan ir apareciendo.\n",
        "\n",
        "\n",
        "\n"
      ]
    },
    {
      "cell_type": "markdown",
      "metadata": {
        "id": "jTo5gWSDwZLB"
      },
      "source": [
        "# Preparación\n",
        "## Datos\n",
        " \n",
        "Los datos son una de las partes más importantes al momento de entrenar modelos de aprendizaje. Si los datos no representan el problema que queremos resolver es muy difícil que nuestro modelo pueda encontrar una solución adecuada. De ahí viene la famosa expresión **\"garbage in, garbage out\"**.\n",
        " \n",
        "En esta oportunidad utilizaremos un dataset abierto creado a partir de la red social **Pinterest**. Este dataset nos entrega imágenes y un comentario creado por un usuario. Por razones de *copyright* no tenemos acceso a las imágenes mismas, ya que esto trasgredería los términos y condiciones de esta red social. Para compartir las imagenes, esta base de datos comparte los descriptores de estas, encontrados con un modelo pre-entrenados sobre Imagenet.\n",
        " \n",
        "Cada elemento de nuestro dataset está conformado por un par imagen-texto asociado a un usuario. Dado esto, definiremos como nuestra tarea, clasificar a qué usuario pertenece cada par imagen-texto del dataset.\n",
        " \n"
      ]
    },
    {
      "cell_type": "markdown",
      "metadata": {
        "id": "0sElUGrynyVe"
      },
      "source": [
        "![Untitled drawing.png](data:image/png;base64,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)"
      ]
    },
    {
      "cell_type": "markdown",
      "metadata": {
        "id": "xmXDL5g2_daw"
      },
      "source": [
        "Podemos ver el modelo dividido de dos formas.\n",
        "\n",
        "1.   Agrupar usuarios dependiendo de sus gustos\n",
        "2.   Agrupar gustos dependiendo de los usuarios\n",
        "\n",
        "Queremos que usuarios con gustos similares esten cercanos en el plano, y tambien que grupo de imagenes-texto similares entre ellos tambien esten cercanos.\n"
      ]
    },
    {
      "cell_type": "markdown",
      "metadata": {
        "id": "NAP81PQ__WtK"
      },
      "source": [
        "![Untitled drawing (7).png](data:image/png;base64,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)"
      ]
    },
    {
      "cell_type": "markdown",
      "metadata": {
        "id": "ssNvJhdLnxbA"
      },
      "source": [
        "Para poder comenzar, lo primero que debemos hacer es descargar y descomprimir los archivos utilizando los siguientes comandos:"
      ]
    },
    {
      "cell_type": "code",
      "execution_count": null,
      "metadata": {
        "colab": {
          "base_uri": "https://localhost:8080/"
        },
        "id": "qDJXI6zbFUPQ",
        "outputId": "b0480518-68fd-48e8-d78d-b8f090094728"
      },
      "outputs": [
        {
          "name": "stdout",
          "output_type": "stream",
          "text": [
            "--2021-05-27 19:39:20--  https://md-datasets-cache-zipfiles-prod.s3.eu-west-1.amazonaws.com/fs4k2zc5j5-3.zip\n",
            "Resolving md-datasets-cache-zipfiles-prod.s3.eu-west-1.amazonaws.com (md-datasets-cache-zipfiles-prod.s3.eu-west-1.amazonaws.com)... 52.218.105.99\n",
            "Connecting to md-datasets-cache-zipfiles-prod.s3.eu-west-1.amazonaws.com (md-datasets-cache-zipfiles-prod.s3.eu-west-1.amazonaws.com)|52.218.105.99|:443... connected.\n",
            "HTTP request sent, awaiting response... 200 OK\n",
            "Length: 2160173792 (2.0G) [application/octet-stream]\n",
            "Saving to: ‘fs4k2zc5j5-3.zip’\n",
            "\n",
            "fs4k2zc5j5-3.zip    100%[===================>]   2.01G  7.91MB/s    in 3m 17s  \n",
            "\n",
            "2021-05-27 19:42:37 (10.5 MB/s) - ‘fs4k2zc5j5-3.zip’ saved [2160173792/2160173792]\n",
            "\n"
          ]
        }
      ],
      "source": [
        "!wget https://md-datasets-cache-zipfiles-prod.s3.eu-west-1.amazonaws.com/fs4k2zc5j5-3.zip"
      ]
    },
    {
      "cell_type": "code",
      "execution_count": null,
      "metadata": {
        "colab": {
          "base_uri": "https://localhost:8080/"
        },
        "id": "KKLWX1stFiFH",
        "outputId": "57595d1a-e3f7-4c40-9c47-3cebd2e759de"
      },
      "outputs": [
        {
          "name": "stdout",
          "output_type": "stream",
          "text": [
            "Archive:  fs4k2zc5j5-3.zip\n",
            "  inflating: text_train.txt          \n",
            "  inflating: text_test.txt           \n",
            "  inflating: imag_val.txt            \n",
            "  inflating: val_test_users.txt      \n",
            "  inflating: images.rar              \n",
            "  inflating: imag_train.txt          \n",
            "  inflating: text_val.txt            \n",
            "  inflating: train_users.txt         \n",
            "  inflating: imag_test.txt           \n"
          ]
        }
      ],
      "source": [
        "!unzip fs4k2zc5j5-3.zip"
      ]
    },
    {
      "cell_type": "code",
      "execution_count": null,
      "metadata": {
        "colab": {
          "base_uri": "https://localhost:8080/"
        },
        "id": "_eZ-67EUNjrR",
        "outputId": "4b172334-0a16-491a-e31f-c2a66ed7db83"
      },
      "outputs": [
        {
          "name": "stdout",
          "output_type": "stream",
          "text": [
            "--2021-05-27 19:43:33--  https://data.mendeley.com/public-files/datasets/fs4k2zc5j5/files/cc4e3cb0-f2cf-4f4a-9395-a8215dc68b45/file_downloaded\n",
            "Resolving data.mendeley.com (data.mendeley.com)... 162.159.130.86, 162.159.133.86\n",
            "Connecting to data.mendeley.com (data.mendeley.com)|162.159.130.86|:443... connected.\n",
            "HTTP request sent, awaiting response... 302 Found\n",
            "Location: https://md-datasets-public-files-prod.s3.eu-west-1.amazonaws.com/96781484-1d06-4610-9c59-bb918db16f53 [following]\n",
            "--2021-05-27 19:43:34--  https://md-datasets-public-files-prod.s3.eu-west-1.amazonaws.com/96781484-1d06-4610-9c59-bb918db16f53\n",
            "Resolving md-datasets-public-files-prod.s3.eu-west-1.amazonaws.com (md-datasets-public-files-prod.s3.eu-west-1.amazonaws.com)... 52.218.100.0\n",
            "Connecting to md-datasets-public-files-prod.s3.eu-west-1.amazonaws.com (md-datasets-public-files-prod.s3.eu-west-1.amazonaws.com)|52.218.100.0|:443... connected.\n",
            "HTTP request sent, awaiting response... 200 OK\n",
            "Length: 1699873240 (1.6G) [text/plain]\n",
            "Saving to: ‘file_downloaded’\n",
            "\n",
            "file_downloaded     100%[===================>]   1.58G  21.7MB/s    in 76s     \n",
            "\n",
            "2021-05-27 19:44:51 (21.3 MB/s) - ‘file_downloaded’ saved [1699873240/1699873240]\n",
            "\n"
          ]
        }
      ],
      "source": [
        "!wget https://data.mendeley.com/public-files/datasets/fs4k2zc5j5/files/cc4e3cb0-f2cf-4f4a-9395-a8215dc68b45/file_downloaded\n",
        "!rm imag_train.txt\n",
        "!mv file_downloaded imag_train.txt"
      ]
    },
    {
      "cell_type": "markdown",
      "metadata": {
        "id": "88drWd4hkxZG"
      },
      "source": [
        "Podemos verificar que tenemos todos los datos en nuestro Colab es revisar el navegador de archivos que se encuentra en la izquierda de nuestro navegador."
      ]
    },
    {
      "cell_type": "markdown",
      "metadata": {
        "id": "b9cbmdQhyiY4"
      },
      "source": [
        "## Actividad 1\n",
        "\n",
        "1- Asuma el contexto actual, usted trabaja en una empresa que tiene una red social muy similar a Facebook y quiere recomendar contenido a los usuarios. Responda las siguientes preguntas:\n",
        "\n",
        "*   ¿Qué información recolectaría para poder entrenar su modelo?  \n",
        "*   ¿Cómo usaría la información recolectada?\n",
        "*   ¿Existe información externa (que no puede ser recolectada por su empresa) que pueda ser útil para mejorar el rendimiento del modelo? Si su respuesta es afirmativa, de un ejemplo.\n"
      ]
    },
    {
      "cell_type": "markdown",
      "metadata": {},
      "source": [
        "# Respuestas\n",
        "1. Informacion que recolectaría:\n",
        "- Comentarios\n",
        "- Post\n",
        "- Imagenes, videos\n",
        "- Interacciones entre usuarios\n",
        "- Seguidores/siguiendo\n",
        "- Metricas de uso (ej. cuanto tiempo pasa en cierto post/video)\n",
        "- datos geográficos\n",
        "\n",
        "2. Se puede hacer un perfil de recomendacion de contenido para los usuarios categorizando todo el contenido disponible y calculando que tanta afinidad tiene cada usuario con esas categorias\n",
        "\n",
        "3. Si, siempre existe informacion que no puede ser recolectada por la empresa (por diversos motivos) que podría ser útil. Ej: Datos de otras aplicaciones (compras, listas de musica, videos que gustan, etc) "
      ]
    },
    {
      "cell_type": "markdown",
      "metadata": {
        "id": "2BIfb8cLwfHN"
      },
      "source": [
        "## Instalación de librerías\n",
        "\n",
        "Al igual que el jueves pasado, utilizaremos la librería `transformers` que nos facilita la utilización de modelos de texto como Bert, ademas de tokenizadores correspondientes.\n",
        "\n",
        "\n",
        "\n"
      ]
    },
    {
      "cell_type": "code",
      "execution_count": null,
      "metadata": {
        "colab": {
          "base_uri": "https://localhost:8080/"
        },
        "id": "wRQAvbawXDcA",
        "outputId": "fc3d68ad-0603-4221-8bf3-e869c162ed99"
      },
      "outputs": [
        {
          "name": "stdout",
          "output_type": "stream",
          "text": [
            "Looking in links: https://download.pytorch.org/whl/torch_stable.html\n",
            "Requirement already satisfied: torch==1.6.0+cu101 in /usr/local/lib/python3.7/dist-packages (1.6.0+cu101)\n",
            "Requirement already satisfied: torchvision==0.7.0+cu101 in /usr/local/lib/python3.7/dist-packages (0.7.0+cu101)\n",
            "Requirement already satisfied: numpy in /usr/local/lib/python3.7/dist-packages (from torch==1.6.0+cu101) (1.19.5)\n",
            "Requirement already satisfied: future in /usr/local/lib/python3.7/dist-packages (from torch==1.6.0+cu101) (0.16.0)\n",
            "Requirement already satisfied: pillow>=4.1.1 in /usr/local/lib/python3.7/dist-packages (from torchvision==0.7.0+cu101) (7.1.2)\n"
          ]
        }
      ],
      "source": [
        "!pip install -q transformers==3.5.1\n",
        "!pip install torch==1.6.0+cu101 torchvision==0.7.0+cu101 -f https://download.pytorch.org/whl/torch_stable.html"
      ]
    },
    {
      "cell_type": "markdown",
      "metadata": {
        "id": "MDBOEd_mwjPS"
      },
      "source": [
        "# Entrenamiento"
      ]
    },
    {
      "cell_type": "code",
      "execution_count": 1,
      "metadata": {
        "id": "3NkvtTP7Ftx_"
      },
      "outputs": [],
      "source": [
        "import numpy as np\n",
        "import pandas as pd\n",
        "import os\n",
        "from random import sample\n",
        "\n",
        "import torch\n",
        "from torch.utils.data import Dataset, DataLoader\n",
        "\n",
        "import transformers\n",
        "from transformers import BertTokenizer, BertModel\n",
        "from transformers import PretrainedConfig"
      ]
    },
    {
      "cell_type": "markdown",
      "metadata": {
        "id": "npYRO7vJxpdZ"
      },
      "source": [
        "## Dataset\n",
        "\n",
        "Creamos la clase `ContentRecommender` y su objetivo es cargar los datos y entregarlos de tal forma que sea aceptado por la clase `DataLoader` de PyTorch. "
      ]
    },
    {
      "cell_type": "code",
      "execution_count": 4,
      "metadata": {
        "id": "Nnr345zsG1ro"
      },
      "outputs": [],
      "source": [
        "class ContentRecommender(Dataset):\n",
        "    def __init__(self, root_dir, data_set='train', num_classes=-1, sub_classes=None, tokenizer=None, transform=None, amount_triplet=3):\n",
        "        if data_set == 'train':\n",
        "            self.img_data = pd.read_csv(os.path.join(root_dir,'./imag_train.txt'), header=None).values\n",
        "            self.txt_data = self.read_file_text(os.path.join(root_dir,'./text_train.txt'))\n",
        "            self.targets = self.read_file_id(os.path.join(root_dir,'./train_users.txt'))\n",
        "        elif data_set == 'val':\n",
        "            self.img_data = pd.read_csv(os.path.join(root_dir,'./imag_val.txt'), header=None).values \n",
        "            self.txt_data = self.read_file_text(os.path.join(root_dir,'./text_val.txt'))\n",
        "            self.targets = self.read_file_id(os.path.join(root_dir,'./val_test_users.txt'))\n",
        "        elif data_set == 'test':\n",
        "            self.img_data = pd.read_csv(os.path.join(root_dir,'./imag_test.txt'), header=None).values \n",
        "            self.txt_data = self.read_file_text(os.path.join(root_dir,'./text_test.txt'))\n",
        "            self.targets = self.read_file_id(os.path.join(root_dir,'./val_test_users.txt'))\n",
        "        else:\n",
        "            raise('data_Set must be some of [train, val, test]')\n",
        "\n",
        "        self.transform = transform\n",
        "        self.tokenizer = tokenizer\n",
        "        self.amount_triplet = amount_triplet\n",
        "\n",
        "        self.sub_classes = None\n",
        "        if num_classes != -1 or sub_classes:\n",
        "            self.sub_set(num_classes, sub_classes)\n",
        "\n",
        "        self.size_dataset()\n",
        "\n",
        "    def sub_set(self, num_classes, sub_classes):\n",
        "        if sub_classes is None:\n",
        "            sample_cls = sample(list(set(self.targets)),num_classes)\n",
        "        else:\n",
        "            sample_cls = sub_classes\n",
        "\n",
        "        d_img = []\n",
        "        d_txt = []\n",
        "        t = []\n",
        "        for i,cls in enumerate(sample_cls):\n",
        "            sample_data = list((torch.tensor(self.targets) == cls).nonzero())\n",
        "\n",
        "            d_img.extend(self.img_data[sample_data])\n",
        "            d_txt.extend([ self.txt_data[elem] for elem in sample_data ])\n",
        "            t.extend([int(i)]*len(sample_data))\n",
        "        \n",
        "        self.sub_classes = sample_cls\n",
        "        self.img_data = torch.tensor(d_img)\n",
        "        self.txt_data = d_txt\n",
        "        self.targets = t\n",
        "\n",
        "    def read_file_id(self, name_file):\n",
        "        data = []\n",
        "        with open(name_file) as f: \n",
        "            for line in f: \n",
        "                data.append(int(line.strip()))\n",
        "        return data\n",
        "\n",
        "    def read_file_text(self, name_file):\n",
        "        data = []\n",
        "        with open(name_file) as f: \n",
        "            for line in f: \n",
        "                data.append(line.strip())\n",
        "        return data\n",
        "\n",
        "    def __len__(self):\n",
        "        return len(self.txt_data)\n",
        "\n",
        "    def __getitem__(self, idx):\n",
        "        comment_text = str(self.txt_data[idx])\n",
        "        comment_text = \" \".join(comment_text.split())\n",
        "\n",
        "        inputs_text = self.tokenizer.encode_plus(\n",
        "                    comment_text,\n",
        "                    None,\n",
        "                    add_special_tokens=True,\n",
        "                    max_length=100,\n",
        "                    pad_to_max_length=True,\n",
        "                    return_token_type_ids=True,\n",
        "                    truncation=True,\n",
        "                )\n",
        "\n",
        "        return {\n",
        "            'text_ids': torch.tensor(inputs_text['input_ids'], dtype=torch.long),\n",
        "            'text_mask': torch.tensor(inputs_text['attention_mask'], dtype=torch.long),\n",
        "            'text_token_type_ids': torch.tensor(inputs_text['token_type_ids'], dtype=torch.long),\n",
        "            'targets': torch.tensor(self.targets[idx], dtype=torch.float),\n",
        "            'img_data': self.img_data[idx],\n",
        "            'idx_data': idx\n",
        "            }\n",
        "\n",
        "    def size_dataset(self):\n",
        "        print('We have {} Image with {} features with {} texts. \\\n",
        "                The amount of different users is {}'.format(self.img_data.shape[0],\n",
        "                                                            self.img_data.shape[1],\n",
        "                                                            len(self.txt_data),\n",
        "                                                            len(set(self.targets))))"
      ]
    },
    {
      "cell_type": "markdown",
      "metadata": {
        "id": "JDLakI7W65dA"
      },
      "source": [
        "Debido al tamaño del dataset y las limitaciones de Colab, vamos a utilizar solo un porcentaje del dataset total. Para esto, vamos a seleccionar solo los elementos de una cantidad de clases *num_classes*. \n",
        " \n",
        "Esto nos permite dos cosas:\n",
        " \n",
        "1.   Poder entrenar con menos datos nuestro modelo, lo cual nos permite poder entrenar en una cantidad de tiempo razonable.\n",
        "2.   Poder tener un clasificador de usuarios."
      ]
    },
    {
      "cell_type": "code",
      "execution_count": 5,
      "metadata": {
        "colab": {
          "base_uri": "https://localhost:8080/",
          "height": 168,
          "referenced_widgets": [
            "b9d81ac7ad0c4744934596e1dbed7da2",
            "84e3ed5d64a24696b632c0da3d17072c",
            "87f1ce3f5fa844e5b6ccfd7a0d5c5773",
            "6cab73a7a45d4f288d2b50b6f50f893f",
            "9d85379833c64e9389f94f93eced3a5d",
            "0a13c70d68714525b209ddedca506f05",
            "e88a568a71f444e1ac03ecff45511b5c",
            "1dafb15e20ec4357ab7603aa7d1b2a95"
          ]
        },
        "id": "OJllCUIuN497",
        "outputId": "7bcda43b-add4-4a5e-f8ae-cde1b1cb0693"
      },
      "outputs": [
        {
          "name": "stdout",
          "output_type": "stream",
          "text": [
            "[tensor([4000]), tensor([4001]), tensor([4002]), tensor([4003]), tensor([4004]), tensor([4005]), tensor([4006]), tensor([4007]), tensor([4008]), tensor([4009]), tensor([4010]), tensor([4011]), tensor([4012]), tensor([4013]), tensor([4014]), tensor([4015]), tensor([4016]), tensor([4017]), tensor([4018]), tensor([4019]), tensor([4020]), tensor([4021]), tensor([4022]), tensor([4023]), tensor([4024]), tensor([4025]), tensor([4026]), tensor([4027]), tensor([4028]), tensor([4029]), tensor([4030]), tensor([4031]), tensor([4032]), tensor([4033]), tensor([4034]), tensor([4035]), tensor([4036]), tensor([4037]), tensor([4038]), tensor([4039]), tensor([4040]), tensor([4041]), tensor([4042]), tensor([4043]), tensor([4044]), tensor([4045]), tensor([4046]), tensor([4047]), tensor([4048]), tensor([4049]), tensor([4050]), tensor([4051]), tensor([4052]), tensor([4053]), tensor([4054]), tensor([4055]), tensor([4056]), tensor([4057]), tensor([4058]), tensor([4059]), tensor([4060]), tensor([4061]), tensor([4062]), tensor([4063]), tensor([4064]), tensor([4065]), tensor([4066]), tensor([4067]), tensor([4068]), tensor([4069]), tensor([4070]), tensor([4071]), tensor([4072]), tensor([4073]), tensor([4074]), tensor([4075]), tensor([4076]), tensor([4077]), tensor([4078]), tensor([4079]), tensor([4080]), tensor([4081]), tensor([4082]), tensor([4083]), tensor([4084]), tensor([4085]), tensor([4086]), tensor([4087]), tensor([4088]), tensor([4089]), tensor([4090]), tensor([4091]), tensor([4092]), tensor([4093]), tensor([4094]), tensor([4095]), tensor([4096]), tensor([4097]), tensor([4098]), tensor([4099]), tensor([4100]), tensor([4101]), tensor([4102]), tensor([4103]), tensor([4104]), tensor([4105]), tensor([4106]), tensor([4107]), tensor([4108]), tensor([4109]), tensor([4110]), tensor([4111]), tensor([4112]), tensor([4113]), tensor([4114]), tensor([4115]), tensor([4116]), tensor([4117]), tensor([4118]), tensor([4119]), tensor([4120]), tensor([4121]), tensor([4122]), tensor([4123]), tensor([4124]), tensor([4125]), tensor([4126]), tensor([4127]), tensor([4128]), tensor([4129]), tensor([4130]), tensor([4131]), tensor([4132]), tensor([4133]), tensor([4134]), tensor([4135]), tensor([4136]), tensor([4137]), tensor([4138]), tensor([4139]), tensor([4140]), tensor([4141]), tensor([4142]), tensor([4143]), tensor([4144]), tensor([4145]), tensor([4146]), tensor([4147]), tensor([4148]), tensor([4149]), tensor([4150]), tensor([4151]), tensor([4152]), tensor([4153]), tensor([4154]), tensor([4155]), tensor([4156]), tensor([4157]), tensor([4158]), tensor([4159]), tensor([4160]), tensor([4161]), tensor([4162]), tensor([4163]), tensor([4164]), tensor([4165]), tensor([4166]), tensor([4167]), tensor([4168]), tensor([4169]), tensor([4170]), tensor([4171]), tensor([4172]), tensor([4173]), tensor([4174]), tensor([4175]), tensor([4176]), tensor([4177]), tensor([4178]), tensor([4179]), tensor([4180]), tensor([4181]), tensor([4182]), tensor([4183]), tensor([4184]), tensor([4185]), tensor([4186]), tensor([4187]), tensor([4188]), tensor([4189]), tensor([4190]), tensor([4191]), tensor([4192]), tensor([4193]), tensor([4194]), tensor([4195]), tensor([4196]), tensor([4197]), tensor([4198]), tensor([4199]), tensor([4200]), tensor([4201]), tensor([4202]), tensor([4203]), tensor([4204]), tensor([4205]), tensor([4206]), tensor([4207]), tensor([4208]), tensor([4209]), tensor([4210]), tensor([4211]), tensor([4212]), tensor([4213]), tensor([4214]), tensor([4215]), tensor([4216]), tensor([4217]), tensor([4218]), tensor([4219]), tensor([4220]), tensor([4221]), tensor([4222]), tensor([4223]), tensor([4224]), tensor([4225]), tensor([4226]), tensor([4227]), tensor([4228]), tensor([4229]), tensor([4230]), tensor([4231]), tensor([4232]), tensor([4233]), tensor([4234]), tensor([4235]), tensor([4236]), tensor([4237]), tensor([4238]), tensor([4239]), tensor([4240]), tensor([4241]), tensor([4242]), tensor([4243]), tensor([4244]), tensor([4245]), tensor([4246]), tensor([4247]), tensor([4248]), tensor([4249]), tensor([4250]), tensor([4251]), tensor([4252]), tensor([4253]), tensor([4254]), tensor([4255]), tensor([4256]), tensor([4257]), tensor([4258]), tensor([4259]), tensor([4260]), tensor([4261]), tensor([4262]), tensor([4263]), tensor([4264]), tensor([4265]), tensor([4266]), tensor([4267]), tensor([4268]), tensor([4269]), tensor([4270]), tensor([4271]), tensor([4272]), tensor([4273]), tensor([4274]), tensor([4275]), tensor([4276]), tensor([4277]), tensor([4278]), tensor([4279]), tensor([4280]), tensor([4281]), tensor([4282]), tensor([4283]), tensor([4284]), tensor([4285]), tensor([4286]), tensor([4287]), tensor([4288]), tensor([4289]), tensor([4290]), tensor([4291]), tensor([4292]), tensor([4293]), tensor([4294]), tensor([4295]), tensor([4296]), tensor([4297]), tensor([4298]), tensor([4299]), tensor([4300]), tensor([4301]), tensor([4302]), tensor([4303]), tensor([4304]), tensor([4305]), tensor([4306]), tensor([4307]), tensor([4308]), tensor([4309]), tensor([4310]), tensor([4311]), tensor([4312]), tensor([4313]), tensor([4314]), tensor([4315]), tensor([4316]), tensor([4317]), tensor([4318]), tensor([4319]), tensor([4320]), tensor([4321]), tensor([4322]), tensor([4323]), tensor([4324]), tensor([4325]), tensor([4326]), tensor([4327]), tensor([4328]), tensor([4329]), tensor([4330]), tensor([4331]), tensor([4332]), tensor([4333]), tensor([4334]), tensor([4335]), tensor([4336]), tensor([4337]), tensor([4338]), tensor([4339]), tensor([4340]), tensor([4341]), tensor([4342]), tensor([4343]), tensor([4344]), tensor([4345]), tensor([4346]), tensor([4347]), tensor([4348]), tensor([4349]), tensor([4350]), tensor([4351]), tensor([4352]), tensor([4353]), tensor([4354]), tensor([4355]), tensor([4356]), tensor([4357]), tensor([4358]), tensor([4359]), tensor([4360]), tensor([4361]), tensor([4362]), tensor([4363]), tensor([4364]), tensor([4365]), tensor([4366]), tensor([4367]), tensor([4368]), tensor([4369]), tensor([4370]), tensor([4371]), tensor([4372]), tensor([4373]), tensor([4374]), tensor([4375]), tensor([4376]), tensor([4377]), tensor([4378]), tensor([4379]), tensor([4380]), tensor([4381]), tensor([4382]), tensor([4383]), tensor([4384]), tensor([4385]), tensor([4386]), tensor([4387]), tensor([4388]), tensor([4389]), tensor([4390]), tensor([4391]), tensor([4392]), tensor([4393]), tensor([4394]), tensor([4395]), tensor([4396]), tensor([4397]), tensor([4398]), tensor([4399])]\n"
          ]
        },
        {
          "name": "stderr",
          "output_type": "stream",
          "text": [
            "C:\\Users\\Arie\\AppData\\Local\\Temp/ipykernel_35776/4150920751.py:40: FutureWarning: The input object of type 'Tensor' is an array-like implementing one of the corresponding protocols (`__array__`, `__array_interface__` or `__array_struct__`); but not a sequence (or 0-D). In the future, this object will be coerced as if it was first converted using `np.array(obj)`. To retain the old behaviour, you have to either modify the type 'Tensor', or assign to an empty array created with `np.empty(correct_shape, dtype=object)`.\n",
            "  d_img.extend(self.img_data[sample_data])\n",
            "C:\\Users\\Arie\\AppData\\Local\\Temp/ipykernel_35776/4150920751.py:40: VisibleDeprecationWarning: Creating an ndarray from ragged nested sequences (which is a list-or-tuple of lists-or-tuples-or ndarrays with different lengths or shapes) is deprecated. If you meant to do this, you must specify 'dtype=object' when creating the ndarray.\n",
            "  d_img.extend(self.img_data[sample_data])\n"
          ]
        },
        {
          "ename": "IndexError",
          "evalue": "only integers, slices (`:`), ellipsis (`...`), numpy.newaxis (`None`) and integer or boolean arrays are valid indices",
          "output_type": "error",
          "traceback": [
            "\u001b[1;31m---------------------------------------------------------------------------\u001b[0m",
            "\u001b[1;31mIndexError\u001b[0m                                Traceback (most recent call last)",
            "\u001b[1;32m~\\AppData\\Local\\Temp/ipykernel_35776/2473232382.py\u001b[0m in \u001b[0;36m<module>\u001b[1;34m\u001b[0m\n\u001b[0;32m      2\u001b[0m \u001b[0mnum_classes\u001b[0m \u001b[1;33m=\u001b[0m \u001b[1;36m10\u001b[0m\u001b[1;33m\u001b[0m\u001b[1;33m\u001b[0m\u001b[0m\n\u001b[0;32m      3\u001b[0m \u001b[1;33m\u001b[0m\u001b[0m\n\u001b[1;32m----> 4\u001b[1;33m \u001b[0mtrainset\u001b[0m \u001b[1;33m=\u001b[0m \u001b[0mContentRecommender\u001b[0m\u001b[1;33m(\u001b[0m\u001b[1;34m'./'\u001b[0m\u001b[1;33m,\u001b[0m \u001b[1;34m'train'\u001b[0m\u001b[1;33m,\u001b[0m \u001b[0mnum_classes\u001b[0m\u001b[1;33m=\u001b[0m\u001b[0mnum_classes\u001b[0m\u001b[1;33m,\u001b[0m \u001b[0mtokenizer\u001b[0m\u001b[1;33m=\u001b[0m\u001b[0mtokenizer\u001b[0m\u001b[1;33m)\u001b[0m\u001b[1;33m\u001b[0m\u001b[1;33m\u001b[0m\u001b[0m\n\u001b[0m\u001b[0;32m      5\u001b[0m \u001b[0mtestset\u001b[0m \u001b[1;33m=\u001b[0m \u001b[0mContentRecommender\u001b[0m\u001b[1;33m(\u001b[0m\u001b[1;34m'./'\u001b[0m\u001b[1;33m,\u001b[0m \u001b[1;34m'test'\u001b[0m\u001b[1;33m,\u001b[0m \u001b[0msub_classes\u001b[0m\u001b[1;33m=\u001b[0m\u001b[0mtrainset\u001b[0m\u001b[1;33m.\u001b[0m\u001b[0msub_classes\u001b[0m\u001b[1;33m,\u001b[0m \u001b[0mtokenizer\u001b[0m\u001b[1;33m=\u001b[0m\u001b[0mtokenizer\u001b[0m\u001b[1;33m)\u001b[0m\u001b[1;33m\u001b[0m\u001b[1;33m\u001b[0m\u001b[0m\n\u001b[0;32m      6\u001b[0m \u001b[1;33m\u001b[0m\u001b[0m\n",
            "\u001b[1;32m~\\AppData\\Local\\Temp/ipykernel_35776/4150920751.py\u001b[0m in \u001b[0;36m__init__\u001b[1;34m(self, root_dir, data_set, num_classes, sub_classes, tokenizer, transform, amount_triplet)\u001b[0m\n\u001b[0;32m     22\u001b[0m         \u001b[0mself\u001b[0m\u001b[1;33m.\u001b[0m\u001b[0msub_classes\u001b[0m \u001b[1;33m=\u001b[0m \u001b[1;32mNone\u001b[0m\u001b[1;33m\u001b[0m\u001b[1;33m\u001b[0m\u001b[0m\n\u001b[0;32m     23\u001b[0m         \u001b[1;32mif\u001b[0m \u001b[0mnum_classes\u001b[0m \u001b[1;33m!=\u001b[0m \u001b[1;33m-\u001b[0m\u001b[1;36m1\u001b[0m \u001b[1;32mor\u001b[0m \u001b[0msub_classes\u001b[0m\u001b[1;33m:\u001b[0m\u001b[1;33m\u001b[0m\u001b[1;33m\u001b[0m\u001b[0m\n\u001b[1;32m---> 24\u001b[1;33m             \u001b[0mself\u001b[0m\u001b[1;33m.\u001b[0m\u001b[0msub_set\u001b[0m\u001b[1;33m(\u001b[0m\u001b[0mnum_classes\u001b[0m\u001b[1;33m,\u001b[0m \u001b[0msub_classes\u001b[0m\u001b[1;33m)\u001b[0m\u001b[1;33m\u001b[0m\u001b[1;33m\u001b[0m\u001b[0m\n\u001b[0m\u001b[0;32m     25\u001b[0m \u001b[1;33m\u001b[0m\u001b[0m\n\u001b[0;32m     26\u001b[0m         \u001b[0mself\u001b[0m\u001b[1;33m.\u001b[0m\u001b[0msize_dataset\u001b[0m\u001b[1;33m(\u001b[0m\u001b[1;33m)\u001b[0m\u001b[1;33m\u001b[0m\u001b[1;33m\u001b[0m\u001b[0m\n",
            "\u001b[1;32m~\\AppData\\Local\\Temp/ipykernel_35776/4150920751.py\u001b[0m in \u001b[0;36msub_set\u001b[1;34m(self, num_classes, sub_classes)\u001b[0m\n\u001b[0;32m     38\u001b[0m             \u001b[0msample_data\u001b[0m \u001b[1;33m=\u001b[0m \u001b[0mlist\u001b[0m\u001b[1;33m(\u001b[0m\u001b[1;33m(\u001b[0m\u001b[0mtorch\u001b[0m\u001b[1;33m.\u001b[0m\u001b[0mtensor\u001b[0m\u001b[1;33m(\u001b[0m\u001b[0mself\u001b[0m\u001b[1;33m.\u001b[0m\u001b[0mtargets\u001b[0m\u001b[1;33m)\u001b[0m \u001b[1;33m==\u001b[0m \u001b[0mcls\u001b[0m\u001b[1;33m)\u001b[0m\u001b[1;33m.\u001b[0m\u001b[0mnonzero\u001b[0m\u001b[1;33m(\u001b[0m\u001b[1;33m)\u001b[0m\u001b[1;33m)\u001b[0m\u001b[1;33m\u001b[0m\u001b[1;33m\u001b[0m\u001b[0m\n\u001b[0;32m     39\u001b[0m             \u001b[0mprint\u001b[0m\u001b[1;33m(\u001b[0m\u001b[0msample_data\u001b[0m\u001b[1;33m)\u001b[0m\u001b[1;33m\u001b[0m\u001b[1;33m\u001b[0m\u001b[0m\n\u001b[1;32m---> 40\u001b[1;33m             \u001b[0md_img\u001b[0m\u001b[1;33m.\u001b[0m\u001b[0mextend\u001b[0m\u001b[1;33m(\u001b[0m\u001b[0mself\u001b[0m\u001b[1;33m.\u001b[0m\u001b[0mimg_data\u001b[0m\u001b[1;33m[\u001b[0m\u001b[0msample_data\u001b[0m\u001b[1;33m]\u001b[0m\u001b[1;33m)\u001b[0m\u001b[1;33m\u001b[0m\u001b[1;33m\u001b[0m\u001b[0m\n\u001b[0m\u001b[0;32m     41\u001b[0m             \u001b[0md_txt\u001b[0m\u001b[1;33m.\u001b[0m\u001b[0mextend\u001b[0m\u001b[1;33m(\u001b[0m\u001b[1;33m[\u001b[0m \u001b[0mself\u001b[0m\u001b[1;33m.\u001b[0m\u001b[0mtxt_data\u001b[0m\u001b[1;33m[\u001b[0m\u001b[0melem\u001b[0m\u001b[1;33m]\u001b[0m \u001b[1;32mfor\u001b[0m \u001b[0melem\u001b[0m \u001b[1;32min\u001b[0m \u001b[0msample_data\u001b[0m \u001b[1;33m]\u001b[0m\u001b[1;33m)\u001b[0m\u001b[1;33m\u001b[0m\u001b[1;33m\u001b[0m\u001b[0m\n\u001b[0;32m     42\u001b[0m             \u001b[0mt\u001b[0m\u001b[1;33m.\u001b[0m\u001b[0mextend\u001b[0m\u001b[1;33m(\u001b[0m\u001b[1;33m[\u001b[0m\u001b[0mint\u001b[0m\u001b[1;33m(\u001b[0m\u001b[0mi\u001b[0m\u001b[1;33m)\u001b[0m\u001b[1;33m]\u001b[0m\u001b[1;33m*\u001b[0m\u001b[0mlen\u001b[0m\u001b[1;33m(\u001b[0m\u001b[0msample_data\u001b[0m\u001b[1;33m)\u001b[0m\u001b[1;33m)\u001b[0m\u001b[1;33m\u001b[0m\u001b[1;33m\u001b[0m\u001b[0m\n",
            "\u001b[1;31mIndexError\u001b[0m: only integers, slices (`:`), ellipsis (`...`), numpy.newaxis (`None`) and integer or boolean arrays are valid indices"
          ]
        }
      ],
      "source": [
        "tokenizer = BertTokenizer.from_pretrained('bert-base-uncased')\n",
        "num_classes = 10\n",
        "\n",
        "trainset = ContentRecommender('./', 'train', num_classes=num_classes, tokenizer=tokenizer)\n",
        "testset = ContentRecommender('./', 'test', sub_classes=trainset.sub_classes, tokenizer=tokenizer)\n",
        "\n",
        "batch_size = 16\n",
        "\n",
        "loaders = {\n",
        "    'train': DataLoader(trainset, batch_size=batch_size, shuffle=True),\n",
        "    'test': DataLoader(testset, batch_size=batch_size, shuffle=False),\n",
        "    'val': DataLoader(testset, batch_size=batch_size, shuffle=False),\n",
        "}"
      ]
    },
    {
      "cell_type": "markdown",
      "metadata": {
        "id": "F7NN0p5lxFTT"
      },
      "source": [
        "AlexNet:\n",
        "\n",
        "<figure>\n",
        "<center>\n",
        "<img src='https://www.mdpi.com/remotesensing/remotesensing-09-00848/article_deploy/html/images/remotesensing-09-00848-g001.png' height=\"500\" />\n",
        "<figcaption>Modelo Alexnet</figcaption>\n",
        "</center>\n",
        "\n",
        "</figure>"
      ]
    },
    {
      "cell_type": "code",
      "execution_count": null,
      "metadata": {
        "colab": {
          "base_uri": "https://localhost:8080/"
        },
        "id": "x0uyHm4W0iE2",
        "outputId": "235c6b09-61ae-4c85-99af-c944a3ae2824"
      },
      "outputs": [
        {
          "name": "stdout",
          "output_type": "stream",
          "text": [
            "Un ejemplo del dataset:\n",
            "brown buttoned leg warmers allfreecrochet com\n",
            "tensor([-5.7683, -3.7660, -2.1247,  ..., -1.8325,  0.4409, -1.9036],\n",
            "       dtype=torch.float64)\n",
            "9\n",
            "flower of hearts\n",
            "easy pulled pork recipe pork butt can diet pepsi bottle sweet baby ray s bbq sauce and lawry s season salt coat pork with lawry s put all ingredients in crock pot and cook for hours then use forks to shred the pork and cook for more hour serve on kaiser roll delish\n",
            "provencal srynotsry i love this pattern\n",
            "home remedy for sore throat hacking cough tight congestion using this in the winter instead of all those mucus relief drugs and decongestants that don t do a thing\n",
            "pumpkin bread w pumpkin buttercream\n"
          ]
        }
      ],
      "source": [
        "idx = torch.randint(0, len(trainset.targets), (1,1)).item()\n",
        "print(\"Un ejemplo del dataset:\")\n",
        "print(trainset.txt_data[idx])\n",
        "print(trainset.img_data[idx])\n",
        "print(trainset.targets[idx])\n",
        "\n",
        "idxs_user = list((torch.tensor(trainset.targets) == trainset.targets[idx]).nonzero())\n",
        "for id in idxs_user[:5]:\n",
        "    print(trainset.txt_data[id])\n"
      ]
    },
    {
      "cell_type": "markdown",
      "metadata": {
        "id": "UwX1e-AXO0Kh"
      },
      "source": [
        "## Funciones de Entrenamiento\n",
        "\n",
        "Crearemos varias funciones que nos ayudarán con el entrenamiento de modelo. Les recomendamos que traten de entender cada una de estas funciones pues podrán reforzar conocimientos que ya han aprendido en el diplomado hasta ahora."
      ]
    },
    {
      "cell_type": "code",
      "execution_count": null,
      "metadata": {
        "id": "vrUSVtEqaCWE"
      },
      "outputs": [],
      "source": [
        "def run_epoch(phase, model, loader, criterion, optimizer=None):\n",
        "    n_batches = len(loader)\n",
        "    if phase == 'train':\n",
        "        model.train()\n",
        "    elif phase == 'val' or 'test':\n",
        "        model.eval()\n",
        "        \n",
        "    cum_loss = 0.0\n",
        "    cum_acc = 0.0\n",
        "    for n_batch, data in enumerate(loader, start=1):\n",
        "        if phase == 'train': # Limpiamos los gradientes solo al entrenar\n",
        "            optimizer.zero_grad()\n",
        "\n",
        "        ids = data['text_ids'].to(device, dtype=torch.long)\n",
        "        mask = data['text_mask'].to(device, dtype=torch.long)\n",
        "        token_type_ids = data['text_token_type_ids'].to(device, dtype=torch.long)\n",
        "        img = data['img_data'].to(device, dtype=torch.float)\n",
        "        targets = data['targets'].to(device, dtype=torch.long)\n",
        "        \n",
        "        result = model(ids, mask, token_type_ids, img) # Aquí se ejecuta nuestro modelo\n",
        "\n",
        "        loss = criterion(result, targets) # Cálculamos la pérdida\n",
        "        cum_loss += loss.item()\n",
        "        _, preds = torch.max(result.data, 1)\n",
        "\n",
        "        # accuracy = calculate_metrics(targets, preds)\n",
        "        cum_acc += torch.sum(preds == targets.data)\n",
        "        if phase == 'train':\n",
        "            loss.backward() # Hacemos backpropagation solo en train\n",
        "            optimizer.step() # Actualizamos parámetros solo en train\n",
        "\n",
        "        current_cum_loss = cum_loss / n_batch\n",
        "        current_cum_acc = 100 * cum_acc / (n_batch * batch_size) \n",
        "\n",
        "        print(f'\\r{phase.upper()}-Batch {n_batch}/{n_batches} '\n",
        "              f'Loss: {current_cum_loss:.4f} '\n",
        "              f'Acc: {current_cum_acc:.2f}% ', end='')\n",
        "    \n",
        "    epoch_loss = float(cum_loss / n_batch)\n",
        "    epoch_acc = float(100 * cum_acc / (n_batch * batch_size))\n",
        "\n",
        "    return epoch_loss, epoch_acc\n",
        "\n",
        "def run_training(model, loaders, optimizer, criterion, n_epochs, scheduler):\n",
        "    phases = ['train', 'val']\n",
        "    history = {\n",
        "        'train': {'loss': [], 'acc': []},\n",
        "        'val': {'loss': [], 'acc': []}\n",
        "    }\n",
        "\n",
        "    print(f\"Validating model before training\")\n",
        "    with torch.no_grad():\n",
        "        val_loss, val_acc = run_epoch('val', model, loaders['val'], criterion)\n",
        "    print()\n",
        "\n",
        "    history['val']['loss'].append(val_loss)\n",
        "    history['val']['acc'].append(val_acc)\n",
        "    for epoch in range(1, n_epochs + 1):\n",
        "        print(f\"Epoch N°{epoch}\")\n",
        "        for phase in phases:\n",
        "            epoch_loss, epoch_acc = run_epoch(phase, model, loaders[phase], criterion, optimizer=optimizer)\n",
        "            # Registramos las pérdidas y accuracy por época, por fase\n",
        "            history[phase]['loss'].append(epoch_loss)\n",
        "            history[phase]['acc'].append(epoch_acc)\n",
        "            print(\"\")\n",
        "        \n",
        "        scheduler.step(history['val']['loss'][-1])\n",
        "\n",
        "    return history"
      ]
    },
    {
      "cell_type": "markdown",
      "metadata": {
        "id": "wluhr-JV2A4X"
      },
      "source": [
        "## Funciones para mostrar resultados\n",
        "\n",
        "Definamos también algunas funciones que nos ayudarán a visualizar el entrenamiento y sus resultados de mejor forma."
      ]
    },
    {
      "cell_type": "code",
      "execution_count": null,
      "metadata": {
        "id": "hJr7sgU1aLFf"
      },
      "outputs": [],
      "source": [
        "import math\n",
        "import matplotlib.pyplot as plt\n",
        "import matplotlib.ticker as ticker\n",
        "import sklearn.metrics\n",
        "\n",
        "def graph_metrics(metricas_test, metricas_train, title=''):\n",
        "    fig, ax = plt.subplots()\n",
        "    plt.style.use('seaborn-white')\n",
        "    ax.yaxis.set_major_formatter(ticker.FormatStrFormatter('%0.3f'))\n",
        "    plt.plot(range(1, int(len(metricas_train) + 1)), metricas_train, marker='o')\n",
        "    plt.plot(range(int(len(metricas_test))), metricas_test, marker='o')\n",
        "    plt.legend(['Train', 'Val'])\n",
        "    plt.title(title)\n",
        "    plt.show()\n",
        "\n",
        "\n",
        "def graph_training_metrics(history):\n",
        "    for metric in ['loss', 'acc']:\n",
        "        title = f'{metric.capitalize()} vs N° Épocas'\n",
        "        graph_metrics(history['val'][metric], history['train'][metric], title=title)\n",
        "\n",
        "\n",
        "def print_report(train_history):\n",
        "    graph_training_metrics(train_history)\n",
        "\n",
        "    train_loss = train_history['train']['loss'][-1]\n",
        "    train_acc = train_history['train']['acc'][-1]\n",
        "    val_loss = train_history['val']['loss'][-1]\n",
        "    val_acc = train_history['val']['acc'][-1]\n",
        "    print(f'Train Loss: {train_loss:.4f} - Train Acc: {train_acc:.2f}%')\n",
        "    print(f'Val Loss: {val_loss:.4f} - Val Acc: {val_acc:.2f}%')"
      ]
    },
    {
      "cell_type": "markdown",
      "metadata": {
        "id": "GkFu9uaQ2F7d"
      },
      "source": [
        "## Modelo\n",
        "\n",
        "La particularidad de este modelo es que debe unir dos representaciones (una imagen y otra texto) para realizar la clasificación.\n",
        "\n",
        "En el caso de la imagen, la representación nos la entrega el dataset que estamos utilizando. Esta viene dada por un vector de características, *feature vector*, extraída por un modelo convolucional pre-entrenado.\n",
        "\n",
        "Para el texto, utilizamos BERT, un modelo pre-entrenado del tipo transformer que se utiliza para texto. Este nos permitirá aprovechar este pre-entrenamiento para encontrar una representación mas rica que entrenando un modelo simple.\n",
        "\n",
        "Ambas representaciones son pasadas por capas *fully-connected* para disminuir su dimensionalidad, luego concatenadas y pasadas por una nueva capa *fully-connected*. Por último, esta representación es pasada por el clasificador para obtener la predicción."
      ]
    },
    {
      "cell_type": "code",
      "execution_count": null,
      "metadata": {
        "id": "6LaF9IrHQhre"
      },
      "outputs": [],
      "source": [
        "import torch\n",
        "\n",
        "class ModelClass(torch.nn.Module):\n",
        "    def __init__(self, pretrained=True, num_classes=117):\n",
        "        super(ModelClass, self).__init__()\n",
        "        if pretrained:\n",
        "            self.l1_txt = transformers.BertModel.from_pretrained('bert-base-uncased')\n",
        "        else:\n",
        "            config = PretrainedConfig.from_pretrained('bert-base-uncased')\n",
        "            self.l1_txt = transformers.BertModel(config)\n",
        "\n",
        "        self.l2_txt = torch.nn.Linear(768, 64)\n",
        "        self.l1_img = torch.nn.Linear(4096, 64)\n",
        "        self.l1_join = torch.nn.Linear(64+64, 32)\n",
        "        self.drop = torch.nn.Dropout(0.3)\n",
        "        self.relu = torch.nn.ReLU(inplace=True)\n",
        "        self.l2_join = torch.nn.Linear(32, num_classes)\n",
        "    \n",
        "    def forward(self, ids, mask, token_type_ids, img_data, features=False):\n",
        "        _, output_text = self.l1_txt(ids, attention_mask=mask, token_type_ids=token_type_ids)\n",
        "        output_text = self.l2_txt(output_text)\n",
        "        output_img = self.l1_img(img_data)\n",
        "\n",
        "        output_text = self.drop(self.relu(output_text))\n",
        "        output_img = self.drop(self.relu(output_img))\n",
        "        output = torch.cat([output_text, output_img], dim=1)\n",
        "\n",
        "        output = self.l1_join(torch.cat([output_text, output_img], dim=1))\n",
        "        output = self.drop(self.relu(output))\n",
        "        if features:\n",
        "            return output\n",
        "        output = self.l2_join(output)\n",
        "        return output"
      ]
    },
    {
      "cell_type": "markdown",
      "metadata": {
        "id": "U4RBcPMLcxlI"
      },
      "source": [
        "![Untitled drawing (6).png](data:image/png;base64,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)"
      ]
    },
    {
      "cell_type": "markdown",
      "metadata": {
        "id": "Gk6cKCZ_q5SP"
      },
      "source": [
        "### Baseline\n",
        "\n",
        "Comparar el funcionamiento de nuestro modelo es fundamental para ver si lo que estamos haciendo funciona bien o mal. En esta ocasión utilizaremos un segundo modelo para poder compararnos. En este solo le entregamos la información de las imágenes a este segundo modelo para realizar la recomendación, esperando que este sea peor que el modelo completo."
      ]
    },
    {
      "cell_type": "code",
      "execution_count": null,
      "metadata": {
        "id": "eqwoWknBq2AT"
      },
      "outputs": [],
      "source": [
        "class ModelClassImage(torch.nn.Module):\n",
        "    def __init__(self, pretrained=True, num_classes=117):\n",
        "        super(ModelClassImage, self).__init__()\n",
        "\n",
        "        self.l1_img = torch.nn.Linear(4096, 64)\n",
        "        self.drop = torch.nn.Dropout(0.3)\n",
        "        self.relu = torch.nn.ReLU(inplace=True)\n",
        "        self.l2_img = torch.nn.Linear(64, num_classes)\n",
        "\n",
        "    def forward(self, ids, mask, token_type_ids, img_data, features=False):\n",
        "        output = self.l1_img(img_data)\n",
        "        output = self.drop(self.relu(output))\n",
        "        if features:\n",
        "            return output\n",
        "        output = self.l2_img(output)\n",
        "        return output"
      ]
    },
    {
      "cell_type": "markdown",
      "metadata": {
        "id": "gV42Zm562tUS"
      },
      "source": [
        "## Entrenamiento\n",
        "\n",
        "Al momento del entrenamiento debemos seleccionar una función de perdida apropiada y un algoritmo de optimización que se comporte bien para este problema.\n",
        "\n",
        "En este caso al ser un problema de clasificación podemos utilizar la función de pérdida *Cross Entropy*, muy utilizada para este tipo de problemas.\n",
        "\n",
        "Una alternativa para la función de pérdida podría ser la función *Triplet Loss*, esta busca que el modelo genere representaciones cercanas para elementos de un mismo usuario y genere representaciones más distantes para elementos de usuarios distintos. Un  problema con esa alternativa, es que necesitamos generar triples para el entrenamiento (de ahí su nombre) con elementos de ancla, positivo y negativo para cada iteración en entrenamiento, causando que el proceso sea más complejo, en tiempo y recursos.\n",
        "\n",
        "Tal como mencionamos en la clase de optimizadores, uno de los algoritmos de optimización en deep learning mas completos y utilizados es Adam, que tiene los beneficios de momentum y la normalización, generando learning rate locales para cada parametros.\n",
        "\n",
        "Además utilizamos un scheduler en base a la perdida de nuestro set de validación.\n",
        "\n"
      ]
    },
    {
      "cell_type": "code",
      "execution_count": null,
      "metadata": {
        "colab": {
          "base_uri": "https://localhost:8080/",
          "height": 1000,
          "referenced_widgets": [
            "69022b9aeb0145278a11fc725a8255e4",
            "daf634b10972461a8212d1e89fa35923",
            "b42ca5fdf9b44d3c877d566b71377380",
            "447ca714ec944f12afdb666b864918a6",
            "f2e8f1225c1942869d99c0e607ed264e",
            "ce7d03bc382b4f10a22b2387f54aaf85",
            "8ea87f2bbcf546d59386532227b5a7e7",
            "f92be598d08e4d03ba121e7a06494b2a",
            "509afa84a52143d8aadad42996bd3976",
            "ab2598447ca647cfb9400503a4a31953",
            "d75c539207874e86957c7364c1d8828a",
            "f388a697d7c147acaa5308655c4aedbb",
            "2c846dfd357f4592b8a3af4dfef6db83",
            "9a73f9d7d9a142fa887a2da1c4d74643",
            "f02596b390564996929e19f9f8d7d12e",
            "56ca8877debf404eac9dab275cf12262"
          ]
        },
        "id": "jCquoeMlZOWv",
        "outputId": "14f34d62-7116-4474-e1d2-5a3a77966c62"
      },
      "outputs": [
        {
          "data": {
            "application/vnd.jupyter.widget-view+json": {
              "model_id": "69022b9aeb0145278a11fc725a8255e4",
              "version_major": 2,
              "version_minor": 0
            },
            "text/plain": [
              "HBox(children=(FloatProgress(value=0.0, description='Downloading', max=570.0, style=ProgressStyle(description_…"
            ]
          },
          "metadata": {
            "tags": []
          },
          "output_type": "display_data"
        },
        {
          "name": "stdout",
          "output_type": "stream",
          "text": [
            "\n"
          ]
        },
        {
          "data": {
            "application/vnd.jupyter.widget-view+json": {
              "model_id": "509afa84a52143d8aadad42996bd3976",
              "version_major": 2,
              "version_minor": 0
            },
            "text/plain": [
              "HBox(children=(FloatProgress(value=0.0, description='Downloading', max=440473133.0, style=ProgressStyle(descri…"
            ]
          },
          "metadata": {
            "tags": []
          },
          "output_type": "display_data"
        },
        {
          "name": "stdout",
          "output_type": "stream",
          "text": [
            "\n",
            "Validating model before training\n"
          ]
        },
        {
          "name": "stderr",
          "output_type": "stream",
          "text": [
            "/usr/local/lib/python3.7/dist-packages/transformers/tokenization_utils_base.py:2022: FutureWarning: The `pad_to_max_length` argument is deprecated and will be removed in a future version, use `padding=True` or `padding='longest'` to pad to the longest sequence in the batch, or use `padding='max_length'` to pad to a max length. In this case, you can give a specific length with `max_length` (e.g. `max_length=45`) or leave max_length to None to pad to the maximal input size of the model (e.g. 512 for Bert).\n",
            "  FutureWarning,\n"
          ]
        },
        {
          "name": "stdout",
          "output_type": "stream",
          "text": [
            "VAL-Batch 63/63 Loss: 2.3786 Acc: 10.22% \n",
            "Epoch N°1\n",
            "TRAIN-Batch 250/250 Loss: 2.1065 Acc: 24.68% \n",
            "VAL-Batch 63/63 Loss: 1.8150 Acc: 42.16% \n",
            "Epoch N°2\n",
            "TRAIN-Batch 250/250 Loss: 1.8344 Acc: 37.23% \n",
            "VAL-Batch 63/63 Loss: 1.6589 Acc: 45.24% \n",
            "Epoch N°3\n",
            "TRAIN-Batch 250/250 Loss: 1.7341 Acc: 41.38% \n",
            "VAL-Batch 63/63 Loss: 1.5519 Acc: 47.82% \n",
            "Epoch N°4\n",
            "TRAIN-Batch 250/250 Loss: 1.6762 Acc: 43.55% \n",
            "VAL-Batch 63/63 Loss: 1.5296 Acc: 49.80% \n",
            "Epoch N°5\n",
            "TRAIN-Batch 250/250 Loss: 1.5951 Acc: 46.75% \n",
            "VAL-Batch 63/63 Loss: 1.4895 Acc: 49.21% \n",
            "Epoch N°6\n",
            "TRAIN-Batch 250/250 Loss: 1.5448 Acc: 48.03% \n",
            "VAL-Batch 63/63 Loss: 1.4354 Acc: 51.59% \n",
            "Epoch N°7\n",
            "TRAIN-Batch 250/250 Loss: 1.4962 Acc: 49.28% \n",
            "VAL-Batch 63/63 Loss: 1.4037 Acc: 52.88% \n",
            "Epoch N°8\n",
            "TRAIN-Batch 250/250 Loss: 1.4605 Acc: 52.15% \n",
            "VAL-Batch 63/63 Loss: 1.3905 Acc: 52.28% \n",
            "Epoch N°9\n",
            "TRAIN-Batch 250/250 Loss: 1.4150 Acc: 52.90% \n",
            "VAL-Batch 63/63 Loss: 1.3763 Acc: 55.36% \n",
            "Epoch N°10\n",
            "TRAIN-Batch 250/250 Loss: 1.3748 Acc: 53.75% \n",
            "VAL-Batch 63/63 Loss: 1.3751 Acc: 54.56% \n",
            "Epoch N°11\n",
            "TRAIN-Batch 250/250 Loss: 1.3260 Acc: 55.00% \n",
            "VAL-Batch 63/63 Loss: 1.3658 Acc: 52.98% \n",
            "Epoch N°12\n",
            "TRAIN-Batch 250/250 Loss: 1.3014 Acc: 56.05% \n",
            "VAL-Batch 63/63 Loss: 1.3396 Acc: 54.46% \n",
            "Epoch N°13\n",
            "TRAIN-Batch 250/250 Loss: 1.2697 Acc: 57.13% \n",
            "VAL-Batch 63/63 Loss: 1.3389 Acc: 54.96% \n",
            "Epoch N°14\n",
            "TRAIN-Batch 250/250 Loss: 1.2712 Acc: 56.88% \n",
            "VAL-Batch 63/63 Loss: 1.3258 Acc: 56.25% \n",
            "Epoch N°15\n",
            "TRAIN-Batch 250/250 Loss: 1.2243 Acc: 59.05% \n",
            "VAL-Batch 63/63 Loss: 1.3220 Acc: 54.86% \n",
            "Epoch N°16\n",
            "TRAIN-Batch 250/250 Loss: 1.1916 Acc: 60.40% \n",
            "VAL-Batch 63/63 Loss: 1.3225 Acc: 55.06% \n",
            "Epoch N°17\n",
            "TRAIN-Batch 250/250 Loss: 1.1700 Acc: 59.83% \n",
            "VAL-Batch 63/63 Loss: 1.3331 Acc: 55.75% \n",
            "Epoch N°18\n",
            "TRAIN-Batch 250/250 Loss: 1.1704 Acc: 59.83% \n",
            "VAL-Batch 63/63 Loss: 1.3107 Acc: 55.65% \n",
            "Epoch N°19\n",
            "TRAIN-Batch 250/250 Loss: 1.1242 Acc: 62.68% \n",
            "VAL-Batch 63/63 Loss: 1.3034 Acc: 56.15% \n",
            "Epoch N°20\n",
            "TRAIN-Batch 250/250 Loss: 1.1182 Acc: 62.00% \n",
            "VAL-Batch 63/63 Loss: 1.3307 Acc: 54.96% \n"
          ]
        },
        {
          "data": {
            "image/png": "[encoded data removed]",
            "text/plain": [
              "<Figure size 432x288 with 1 Axes>"
            ]
          },
          "metadata": {
            "needs_background": "light",
            "tags": []
          },
          "output_type": "display_data"
        },
        {
          "data": {
            "image/png": "[encoded data removed]",
            "text/plain": [
              "<Figure size 432x288 with 1 Axes>"
            ]
          },
          "metadata": {
            "tags": []
          },
          "output_type": "display_data"
        },
        {
          "name": "stdout",
          "output_type": "stream",
          "text": [
            "Train Loss: 1.1182 - Train Acc: 62.00%\n",
            "Val Loss: 1.3307 - Val Acc: 54.96%\n"
          ]
        }
      ],
      "source": [
        "from torch import optim\n",
        "from torch.optim import lr_scheduler\n",
        "from torch.optim import Adam\n",
        "from torch.nn import CrossEntropyLoss\n",
        "\n",
        "device = torch.device(\"cuda\" if torch.cuda.is_available() else \"cpu\")\n",
        "\n",
        "model = ModelClass(pretrained=True, num_classes=num_classes)\n",
        "model.to(device)\n",
        "\n",
        "criterion = CrossEntropyLoss()\n",
        "optimizer = Adam(model.parameters(), lr=1e-4) #1e-5\n",
        "scheduler = lr_scheduler.ReduceLROnPlateau(optimizer)\n",
        "\n",
        "epochs = 20\n",
        "history = run_training(model, loaders, optimizer, criterion, epochs, scheduler)\n",
        "\n",
        "print_report(history)"
      ]
    },
    {
      "cell_type": "code",
      "execution_count": null,
      "metadata": {
        "colab": {
          "base_uri": "https://localhost:8080/",
          "height": 1000
        },
        "id": "hRfBJqeaqj_R",
        "outputId": "64cddd06-5b2f-49d6-b2a9-7686f2cdb5ff"
      },
      "outputs": [
        {
          "name": "stdout",
          "output_type": "stream",
          "text": [
            "Validating model before training\n",
            "VAL-Batch 29/63 Loss: 2.7486 Acc: 16.38% "
          ]
        },
        {
          "name": "stderr",
          "output_type": "stream",
          "text": [
            "/usr/local/lib/python3.7/dist-packages/transformers/tokenization_utils_base.py:2022: FutureWarning: The `pad_to_max_length` argument is deprecated and will be removed in a future version, use `padding=True` or `padding='longest'` to pad to the longest sequence in the batch, or use `padding='max_length'` to pad to a max length. In this case, you can give a specific length with `max_length` (e.g. `max_length=45`) or leave max_length to None to pad to the maximal input size of the model (e.g. 512 for Bert).\n",
            "  FutureWarning,\n"
          ]
        },
        {
          "name": "stdout",
          "output_type": "stream",
          "text": [
            "VAL-Batch 63/63 Loss: 2.6775 Acc: 12.10% \n",
            "Epoch N°1\n",
            "TRAIN-Batch 250/250 Loss: 1.9251 Acc: 33.83% \n",
            "VAL-Batch 63/63 Loss: 1.6073 Acc: 45.34% \n",
            "Epoch N°2\n",
            "TRAIN-Batch 250/250 Loss: 1.5804 Acc: 46.25% \n",
            "VAL-Batch 63/63 Loss: 1.4873 Acc: 49.01% \n",
            "Epoch N°3\n",
            "TRAIN-Batch 250/250 Loss: 1.4310 Acc: 50.20% \n",
            "VAL-Batch 63/63 Loss: 1.4549 Acc: 50.79% \n",
            "Epoch N°4\n",
            "TRAIN-Batch 250/250 Loss: 1.3473 Acc: 53.55% \n",
            "VAL-Batch 63/63 Loss: 1.3721 Acc: 53.27% \n",
            "Epoch N°5\n",
            "TRAIN-Batch 250/250 Loss: 1.2840 Acc: 56.38% \n",
            "VAL-Batch 63/63 Loss: 1.3562 Acc: 53.17% \n",
            "Epoch N°6\n",
            "TRAIN-Batch 250/250 Loss: 1.2181 Acc: 58.20% \n",
            "VAL-Batch 63/63 Loss: 1.3326 Acc: 52.68% \n",
            "Epoch N°7\n",
            "TRAIN-Batch 250/250 Loss: 1.1441 Acc: 59.58% \n",
            "VAL-Batch 63/63 Loss: 1.3370 Acc: 54.66% \n",
            "Epoch N°8\n",
            "TRAIN-Batch 250/250 Loss: 1.1049 Acc: 61.15% \n",
            "VAL-Batch 63/63 Loss: 1.3530 Acc: 52.98% \n",
            "Epoch N°9\n",
            "TRAIN-Batch 250/250 Loss: 1.0612 Acc: 63.05% \n",
            "VAL-Batch 63/63 Loss: 1.3337 Acc: 53.97% \n",
            "Epoch N°10\n",
            "TRAIN-Batch 250/250 Loss: 1.0149 Acc: 64.25% \n",
            "VAL-Batch 63/63 Loss: 1.3156 Acc: 54.86% \n",
            "Epoch N°11\n",
            "TRAIN-Batch 250/250 Loss: 0.9920 Acc: 64.48% \n",
            "VAL-Batch 63/63 Loss: 1.3382 Acc: 54.66% \n",
            "Epoch N°12\n",
            "TRAIN-Batch 250/250 Loss: 0.9510 Acc: 66.78% \n",
            "VAL-Batch 63/63 Loss: 1.3368 Acc: 53.27% \n",
            "Epoch N°13\n",
            "TRAIN-Batch 250/250 Loss: 0.9256 Acc: 67.43% \n",
            "VAL-Batch 63/63 Loss: 1.3640 Acc: 53.57% \n",
            "Epoch N°14\n",
            "TRAIN-Batch 250/250 Loss: 0.8811 Acc: 68.78% \n",
            "VAL-Batch 63/63 Loss: 1.3338 Acc: 54.66% \n",
            "Epoch N°15\n",
            "TRAIN-Batch 250/250 Loss: 0.8554 Acc: 69.50% \n",
            "VAL-Batch 63/63 Loss: 1.3557 Acc: 52.78% \n",
            "Epoch N°16\n",
            "TRAIN-Batch 250/250 Loss: 0.8219 Acc: 71.55% \n",
            "VAL-Batch 63/63 Loss: 1.3644 Acc: 54.86% \n",
            "Epoch N°17\n",
            "TRAIN-Batch 250/250 Loss: 0.8028 Acc: 71.58% \n",
            "VAL-Batch 63/63 Loss: 1.4013 Acc: 55.36% \n",
            "Epoch N°18\n",
            "TRAIN-Batch 250/250 Loss: 0.7867 Acc: 72.43% \n",
            "VAL-Batch 63/63 Loss: 1.3669 Acc: 54.07% \n",
            "Epoch N°19\n",
            "TRAIN-Batch 250/250 Loss: 0.7614 Acc: 72.93% \n",
            "VAL-Batch 63/63 Loss: 1.3723 Acc: 54.07% \n",
            "Epoch N°20\n",
            "TRAIN-Batch 250/250 Loss: 0.7604 Acc: 73.30% \n",
            "VAL-Batch 63/63 Loss: 1.4204 Acc: 53.67% \n"
          ]
        },
        {
          "data": {
            "image/png": "[encoded data removed]",
            "text/plain": [
              "<Figure size 432x288 with 1 Axes>"
            ]
          },
          "metadata": {
            "tags": []
          },
          "output_type": "display_data"
        },
        {
          "data": {
            "image/png": "[encoded data removed]",
            "text/plain": [
              "<Figure size 432x288 with 1 Axes>"
            ]
          },
          "metadata": {
            "tags": []
          },
          "output_type": "display_data"
        },
        {
          "name": "stdout",
          "output_type": "stream",
          "text": [
            "Train Loss: 0.7604 - Train Acc: 73.30%\n",
            "Val Loss: 1.4204 - Val Acc: 53.67%\n"
          ]
        }
      ],
      "source": [
        "from torch import optim\n",
        "from torch.optim import lr_scheduler\n",
        "from torch.optim import Adam\n",
        "from torch.nn import CrossEntropyLoss\n",
        "\n",
        "device = torch.device(\"cuda\" if torch.cuda.is_available() else \"cpu\")\n",
        "\n",
        "model_img = ModelClassImage(pretrained=True, num_classes=num_classes)\n",
        "model_img.to(device)\n",
        "\n",
        "criterion = CrossEntropyLoss()\n",
        "optimizer = Adam(model_img.parameters(), lr=1e-4) #1e-5\n",
        "scheduler = lr_scheduler.ReduceLROnPlateau(optimizer)\n",
        "\n",
        "epochs = 20\n",
        "history = run_training(model_img, loaders, optimizer, criterion, epochs, scheduler)\n",
        "\n",
        "print_report(history)"
      ]
    },
    {
      "cell_type": "markdown",
      "metadata": {
        "id": "nAVSrRLdyIma"
      },
      "source": [
        "## Actividad 2\n",
        "1 - Con respecto a los conocimientos adquiridos hasta el momento:\n",
        "- Enumere 2 limitaciones de nuestro modelo. Sugiera una mejora en base a estas limitaciones. \n",
        "\n",
        "- En base a los temas vistos hasta ahora en el diplomado, sugiera una mejora que podría hacerle a este modelo.\n",
        "\n",
        "- Enumere dos formas que se le ocurran de realizar data augmentation con estos datos.\n"
      ]
    },
    {
      "cell_type": "markdown",
      "metadata": {
        "id": "SrC6ZtJJ3IQD"
      },
      "source": [
        "# Recomendación\n",
        "\n",
        "Para recomendar contenido a usuarios nos vamos a basar en que usuarios prefieren contenido similar al que ya han interactuado antes. Es decir, imagenes y texto similares a los que a comentado pueden incentivar a generar una nueva interacción.\n",
        "\n",
        "Una forma que tenemos de verificar si un par imagen-texto es similar a otro es mediante los descriptores que estos tipos de modelos generan para poder realizar la clasificación.\n",
        "\n"
      ]
    },
    {
      "cell_type": "markdown",
      "metadata": {
        "id": "2EE9doe43ArK"
      },
      "source": [
        "![Untitled drawing (4).png](data:image/png;base64,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)"
      ]
    },
    {
      "cell_type": "markdown",
      "metadata": {
        "id": "cPRqYJzMtZrt"
      },
      "source": [
        "## Obtención de Descriptores\n",
        "\n",
        "Para obtener una representación que tenga información tanto de la imagen como del texto, utilizamos el parámetro `features` de nuestro modelo. Con esto, en vez de devolvernos las predicciones del modelo, nos entrega un descriptor de nuestro par imagen-texto.\n",
        " \n",
        "La motivación de esto es la misma que la vista el jueves pasado, donde utilizan modelos pre-entrenados para encontrar descriptores de imágenes y luego entrenar un clasificador con estos. La diferencia es que aquí no los vamos a utilizar para entrenar un clasificador sino que lo vamos a utilizar para encontrar distancias entre los diferentes elementos de nuestro dataset."
      ]
    },
    {
      "cell_type": "code",
      "execution_count": null,
      "metadata": {
        "colab": {
          "base_uri": "https://localhost:8080/"
        },
        "id": "uWWMWhlSdfct",
        "outputId": "987372a9-31ca-4dd8-9b96-a8050e38c761"
      },
      "outputs": [
        {
          "name": "stderr",
          "output_type": "stream",
          "text": [
            "/usr/local/lib/python3.7/dist-packages/transformers/tokenization_utils_base.py:2022: FutureWarning: The `pad_to_max_length` argument is deprecated and will be removed in a future version, use `padding=True` or `padding='longest'` to pad to the longest sequence in the batch, or use `padding='max_length'` to pad to a max length. In this case, you can give a specific length with `max_length` (e.g. `max_length=45`) or leave max_length to None to pad to the maximal input size of the model (e.g. 512 for Bert).\n",
            "  FutureWarning,\n"
          ]
        }
      ],
      "source": [
        "device = torch.device(\"cpu\" if torch.cuda.is_available() else \"cpu\")\n",
        "model.to(device)\n",
        "\n",
        "test_f = np.zeros((len(testset), 32), dtype=np.float32)\n",
        "model.eval()\n",
        "for i, b in enumerate(testset):\n",
        "    ids = b['text_ids'].to(device, dtype=torch.long).unsqueeze(0)\n",
        "    mask = b['text_mask'].to(device, dtype=torch.long).unsqueeze(0)\n",
        "    token_type_ids = b['text_token_type_ids'].to(device, dtype=torch.long).unsqueeze(0)\n",
        "    img = b['img_data'].to(device, dtype=torch.float).unsqueeze(0)\n",
        "    targets = b['targets'].to(device, dtype=torch.long).unsqueeze(0)\n",
        "        \n",
        "    test_f[i] = model(ids, mask, token_type_ids, img, features=True).detach().numpy()"
      ]
    },
    {
      "cell_type": "code",
      "execution_count": null,
      "metadata": {
        "colab": {
          "base_uri": "https://localhost:8080/"
        },
        "id": "Y-WHqmbX9d_s",
        "outputId": "7d94d62a-7cac-4f7d-c8e7-1cb810c452ab"
      },
      "outputs": [
        {
          "name": "stderr",
          "output_type": "stream",
          "text": [
            "/usr/local/lib/python3.7/dist-packages/transformers/tokenization_utils_base.py:2022: FutureWarning: The `pad_to_max_length` argument is deprecated and will be removed in a future version, use `padding=True` or `padding='longest'` to pad to the longest sequence in the batch, or use `padding='max_length'` to pad to a max length. In this case, you can give a specific length with `max_length` (e.g. `max_length=45`) or leave max_length to None to pad to the maximal input size of the model (e.g. 512 for Bert).\n",
            "  FutureWarning,\n"
          ]
        }
      ],
      "source": [
        "# Hacer lo mismo que en `f` pero con los datos de train\n",
        "\n",
        "train_f = np.zeros((len(trainset), 32), dtype=np.float16)\n",
        "model.eval()\n",
        "for i, b in enumerate(trainset):\n",
        "    ids = b['text_ids'].to(device, dtype=torch.long).unsqueeze(0)\n",
        "    mask = b['text_mask'].to(device, dtype=torch.long).unsqueeze(0)\n",
        "    token_type_ids = b['text_token_type_ids'].to(device, dtype=torch.long).unsqueeze(0)\n",
        "    img = b['img_data'].to(device, dtype=torch.float).unsqueeze(0)\n",
        "    targets = b['targets'].to(device, dtype=torch.long).unsqueeze(0)\n",
        "        \n",
        "    train_f[i] = model(ids, mask, token_type_ids, img, features=True).half().detach().numpy()"
      ]
    },
    {
      "cell_type": "markdown",
      "metadata": {
        "id": "BZCD_r99tfoo"
      },
      "source": [
        "## Encontrar similares\n",
        "\n",
        "Una vez que tenemos los descriptores tanto del set de entrenamiento como del set de test podemos comenzar a calcular la distancia de los nuevos datos (test) con respecto a los utilizado durante el entrenamiento (train).\n",
        "\n",
        "La intuicion de esto es que queremos recomendar los nuevos elementos a usuarios con gustos similares, y para esto nos basamos en alguna metrica de distancia entre ambos descriptores. Al encontrar la distancia menor de un elementos con otro sabemos a que usuario recomendarle esta nueva imagen, ya que conocemos el usuario que escribio el comentario en esa imagen en los datos de entrenamiento."
      ]
    },
    {
      "cell_type": "code",
      "execution_count": null,
      "metadata": {
        "id": "Bc1uNcVdP3W3"
      },
      "outputs": [],
      "source": [
        "from sklearn.metrics import pairwise_distances\n",
        "import heapq\n",
        "\n",
        "def find_similar_images(embedding, query_id=None, metrics=('euclidean',), topk=5):\n",
        "    assert len(metrics) > 0\n",
        "    assert topk <= 30 # to avoid requesting too many images\n",
        "    n = embedding.shape[0]\n",
        "    if query_id is None:\n",
        "        query_id = np.random.randint(n)\n",
        "    results = {}\n",
        "    # --- show retrieved images for each metric\n",
        "    for metric in metrics:\n",
        "        #print('-------- retrieved with metric = %s -----' % metric)\n",
        "        distances = pairwise_distances(embedding[query_id].reshape(1,-1), embedding, metric=metric)\n",
        "        heap = []\n",
        "        for i in range(n):\n",
        "            if i == query_id:\n",
        "                continue\n",
        "            if len(heap) < topk:\n",
        "                heapq.heappush(heap, (-distances[0][i], i))\n",
        "            else:\n",
        "                heapq.heappushpop(heap, (-distances[0][i], i))\n",
        "        heap.sort(reverse=True)\n",
        "        results[metric] = tuple(zip(*heap))\n",
        "        results[metric] = (list(results[metric][1]), [-dist for dist in results[metric][0]])\n",
        "    return results"
      ]
    },
    {
      "cell_type": "code",
      "execution_count": null,
      "metadata": {
        "colab": {
          "base_uri": "https://localhost:8080/"
        },
        "id": "CPdBiGC0WWz9",
        "outputId": "861f947b-aba8-4451-f910-c999d0be3ec9"
      },
      "outputs": [
        {
          "data": {
            "text/plain": [
              "{'cosine': ([41, 811, 84, 547, 278, 14, 46, 327, 373, 17],\n",
              "  [0.035659492,\n",
              "   0.039764345,\n",
              "   0.050937533,\n",
              "   0.054447412,\n",
              "   0.055823922,\n",
              "   0.056108713,\n",
              "   0.058470488,\n",
              "   0.064050496,\n",
              "   0.07279831,\n",
              "   0.0760988]),\n",
              " 'euclidean': ([811, 46, 278, 41, 373, 14, 547, 327, 798, 84],\n",
              "  [2.7927501,\n",
              "   3.049584,\n",
              "   3.2858646,\n",
              "   3.2894495,\n",
              "   3.4817758,\n",
              "   3.7606015,\n",
              "   3.7914298,\n",
              "   3.8700418,\n",
              "   3.9183667,\n",
              "   4.0204864])}"
            ]
          },
          "execution_count": 15,
          "metadata": {
            "tags": []
          },
          "output_type": "execute_result"
        }
      ],
      "source": [
        "find_similar_images(test_f, metrics=('cosine','euclidean'), query_id=2, topk=10)"
      ]
    },
    {
      "cell_type": "markdown",
      "metadata": {
        "id": "70voTK5IuPyP"
      },
      "source": [
        "## Recomendación\n",
        "\n",
        "Tal como se menciono en la sección anterior, con las distancias entre los vectores podemos recomendar nuevo contenido a un usuario, considerando las distancias minimas entre estos."
      ]
    },
    {
      "cell_type": "code",
      "execution_count": null,
      "metadata": {
        "id": "8jGA8-i_9eHU"
      },
      "outputs": [],
      "source": [
        "targets = np.array(testset.targets)\n",
        "n_targets = len(set(targets))"
      ]
    },
    {
      "cell_type": "code",
      "execution_count": null,
      "metadata": {
        "id": "GOJzkHAL9eKz"
      },
      "outputs": [],
      "source": [
        "# Creo diccionarios con user_id => feats (los features concatenados de todos los items del usuario en train)\n",
        "# y lo transformo a un np.array (user_repr)\n",
        "from collections import defaultdict\n",
        "\n",
        "user_dict = {}\n",
        "for user_id, features in zip(trainset.targets, train_f):\n",
        "    if not user_id in user_dict:\n",
        "        user_dict[user_id] = []\n",
        "    user_dict[user_id].append(features)\n",
        "\n",
        "for user_id in user_dict:\n",
        "    user_dict[user_id] = np.array(user_dict[user_id])\n",
        "\n",
        "user_repr = np.array([user_dict[user_id] for user_id in range(n_targets)])"
      ]
    },
    {
      "cell_type": "code",
      "execution_count": null,
      "metadata": {
        "colab": {
          "base_uri": "https://localhost:8080/"
        },
        "id": "l3QH3x059eGS",
        "outputId": "68b20b7a-95ca-4a82-a59e-a2b11d9d6a89"
      },
      "outputs": [
        {
          "name": "stdout",
          "output_type": "stream",
          "text": [
            "(10, 1000)\n"
          ]
        }
      ],
      "source": [
        "# Calculo los scores para cada imágen en test con respecto a un usuario\n",
        "metric = 'cosine'\n",
        "\n",
        "n_users, n_images, _ = user_repr.shape\n",
        "user_repr = user_repr.reshape(-1, 32)\n",
        "dists = pairwise_distances(user_repr, test_f, metric=metric)\n",
        "dists = dists.reshape(n_users, n_images, -1)\n",
        "scores = dists.min(axis=1)\n",
        "\n",
        "print(scores.shape)"
      ]
    },
    {
      "cell_type": "code",
      "execution_count": null,
      "metadata": {
        "id": "H5h_QpDAE54G"
      },
      "outputs": [],
      "source": [
        "# Lista de recomendación\n",
        "k = 10\n",
        "recommendation_list = np.argpartition(scores, k)\n",
        "recommendation_list = recommendation_list[:,:k]"
      ]
    },
    {
      "cell_type": "markdown",
      "metadata": {
        "id": "mAnd9GZCMZmM"
      },
      "source": [
        "En esta lista se muestra el id de los elementos de nuestro base de datos (imagen-texto) que le podria interesar a 10 usuarios diferentes, en base a las menores distancias de los elementos que conocemos del usuario con cada uno de los nuevos elementos que nos llegaron."
      ]
    },
    {
      "cell_type": "code",
      "execution_count": null,
      "metadata": {
        "colab": {
          "base_uri": "https://localhost:8080/"
        },
        "id": "PsyZqqtaM6DA",
        "outputId": "8af012ee-fee7-4dde-8a52-525643a70d9c"
      },
      "outputs": [
        {
          "data": {
            "text/plain": [
              "array([[168,  87,  96, 276, 218, 550,  35, 241, 210,  47],\n",
              "       [116, 109, 168, 167, 192, 174, 385, 550, 117, 786],\n",
              "       [293, 261, 232, 230, 286, 224,  18, 213,  35,  80],\n",
              "       [306, 323, 346, 326, 635, 305, 332, 351, 380, 149],\n",
              "       [411, 407, 495, 462, 904, 457, 459, 412, 433, 975],\n",
              "       [959, 562, 538, 185, 513, 981, 362, 306, 734, 719],\n",
              "       [607, 676, 651, 692, 639, 687, 821, 694, 815, 696],\n",
              "       [700, 786, 779, 707, 752, 754, 731, 716, 799, 745],\n",
              "       [839, 890, 817, 866, 830, 838, 895, 876, 854, 806],\n",
              "       [980, 925, 462, 927, 939, 919, 991, 962, 432, 959]])"
            ]
          },
          "execution_count": 20,
          "metadata": {
            "tags": []
          },
          "output_type": "execute_result"
        }
      ],
      "source": [
        "recommendation_list"
      ]
    },
    {
      "cell_type": "markdown",
      "metadata": {
        "id": "LkjphQyOtp4z"
      },
      "source": [
        "## Métricas de Comparación\n",
        "\n",
        "Tal como vimos en clases, existen varias métricas que se pueden utilizar para comprobar el correcto funcionamiento de nuestro modelo de recomendación. \n",
        "\n",
        "Las primeras métricas son *Precision* y *Recall*, que nos entregan la cantidad de datos correctos recuperamos y estamos recuperando, respectivamente. La siguiente figura nos puede ayudar a entender estos conceptos.\n",
        "\n",
        "<figure>\n",
        "<center>\n",
        "<img src='https://upload.wikimedia.org/wikipedia/commons/2/26/Precisionrecall.svg' height=\"500\" />\n",
        "<figcaption>Cálculo de precision y recall.</figcaption>\n",
        "</center>\n",
        "\n",
        "</figure>\n",
        "\n",
        "La *Precision* nos dice la cantidad de elementos correctos que recuperamos en nuestro set, es decir, de los elementos que recomendamos al usuario, cuantos de estos efectivamente pueden gustarle a la persona.\n",
        "\n",
        "> $Precision = \\frac{True Positive}{True Positive + False Positive} $\n",
        "\n",
        "Por otro lado, el *Recall* nos indica la cantidad de elementos relevantes que le estamos mostrando al usuario del total de elementos relevantes que sabemos le pueden gustar. Es decir, del total de elementos relevantes para el usuario que tenemos en nuestra base de datos, cuantos de estos los estamos mostrando en nuestra recomendación. \n",
        "\n",
        "> $Recall = \\frac{True Positive}{True Positive + False Negative} $\n",
        "\n",
        "Una métrica particular para sistemas recomendadores es Normalized Discounted Cumulative Gain (nDCG), que busca entregar una metrica con respecto al ránking que le estamos entregando. La intuición es que los elementos mas relevantes debería aparecer primero en nuestro ránking para ir disminuyendo en relevancia.\n",
        "\n",
        "> $nDCG_p = \\frac{\\sum_{i=1}^p\\frac{2^{rel_i}-1}{log_2(i+1)}}{\\sum_{i=1}^{REL_p}\\frac{2^{rel_i}-1}{log_2(i+1)}} = \\frac{DCG_p}{IDCG_p}$\n",
        "\n",
        "En nuestro caso, todos los elementos que queremos recomendarle al usuario tienen igual relevancia (1) y los otros tienen relevancia cero (0)."
      ]
    },
    {
      "cell_type": "code",
      "execution_count": null,
      "metadata": {
        "id": "aDnooBnX9eDH"
      },
      "outputs": [],
      "source": [
        "from sklearn.metrics import ndcg_score\n",
        "\n",
        "def ndcg(scores, targets, k):\n",
        "    relevance = np.zeros((targets.size, targets.max() + 1))\n",
        "    relevance[np.arange(targets.size), targets] = 1\n",
        "    relevance = relevance.T\n",
        "\n",
        "    return ndcg_score(relevance, scores, k=k)\n",
        "\n",
        "def pr_at_k(scores, targets, k):\n",
        "    recs = np.argpartition(scores, k)\n",
        "    recs = recs[:,:k]\n",
        "    n_targets = len(set(targets))\n",
        "    rels = np.array([np.where(targets == user_id)[0] for user_id in range(n_targets)])\n",
        "\n",
        "    precision = []\n",
        "    recall = []\n",
        "    for user_id, (recommended, relevants) in enumerate(zip(recs, rels)):\n",
        "        recommended = recommended[:k]\n",
        "        recommended = set(recommended)\n",
        "        relevants = set(relevants)\n",
        "        p = len(recommended & relevants) / len(recommended)\n",
        "        r = len(recommended & relevants) / len(relevants)\n",
        "        precision.append(p)\n",
        "        recall.append(r)\n",
        "\n",
        "    return np.mean(p), np.mean(r) # P@k, R@k"
      ]
    },
    {
      "cell_type": "code",
      "execution_count": null,
      "metadata": {
        "colab": {
          "base_uri": "https://localhost:8080/"
        },
        "id": "B4hA0W2p9d-J",
        "outputId": "8837ff57-4eab-490b-a5b6-7881a5f38a97"
      },
      "outputs": [
        {
          "name": "stdout",
          "output_type": "stream",
          "text": [
            "P=0.235\n",
            "R=0.94\n",
            "nDCG=0.06784460693316849\n"
          ]
        }
      ],
      "source": [
        "pr, rec = pr_at_k(scores, targets, k=400)\n",
        "obtained_ndcg = ndcg(scores, targets, k=400)\n",
        "print(f'P={pr}')\n",
        "print(f'R={rec}')\n",
        "print(f'nDCG={obtained_ndcg}')"
      ]
    },
    {
      "cell_type": "code",
      "execution_count": null,
      "metadata": {
        "colab": {
          "base_uri": "https://localhost:8080/",
          "height": 276
        },
        "id": "mPIHQCwoNZLi",
        "outputId": "83628387-3ec9-4373-da4a-cf03b60fe62b"
      },
      "outputs": [
        {
          "data": {
            "image/png": "[encoded data removed]",
            "text/plain": [
              "<Figure size 432x288 with 1 Axes>"
            ]
          },
          "metadata": {
            "tags": []
          },
          "output_type": "display_data"
        }
      ],
      "source": [
        "pr_all = []\n",
        "rec_all = []\n",
        "ndcg_all = []\n",
        "for i in range(70,800, 10):\n",
        "    pr, rec = pr_at_k(scores, targets, k=i)\n",
        "    pr_all.append(pr)\n",
        "    rec_all.append(rec)\n",
        "    o_ndcg = ndcg(scores, targets, k=i)\n",
        "    ndcg_all.append(o_ndcg)\n",
        "\n",
        "fig, ax = plt.subplots()\n",
        "ax.plot(pr_all, rec_all)\n",
        "\n",
        "ax.set(xlabel='Precision', ylabel='Recall')\n",
        "ax.grid()\n",
        "\n",
        "plt.show()"
      ]
    },
    {
      "cell_type": "code",
      "execution_count": null,
      "metadata": {
        "colab": {
          "base_uri": "https://localhost:8080/",
          "height": 276
        },
        "id": "AtIyZ1wKwqdA",
        "outputId": "461a7e2e-57f1-4da9-bb58-dabb516e7b7e"
      },
      "outputs": [
        {
          "data": {
            "image/png": "[encoded data removed]",
            "text/plain": [
              "<Figure size 432x288 with 1 Axes>"
            ]
          },
          "metadata": {
            "tags": []
          },
          "output_type": "display_data"
        }
      ],
      "source": [
        "fig, ax = plt.subplots()\n",
        "ax.plot(ndcg_all, list(range(70, 800, 10)))\n",
        "\n",
        "ax.set(xlabel='NGCD', ylabel='Top@k')\n",
        "ax.grid()\n",
        "\n",
        "plt.show()"
      ]
    },
    {
      "cell_type": "markdown",
      "metadata": {
        "id": "lAVcIpnVzqAc"
      },
      "source": [
        "## Actividad 3\n",
        "\n",
        "1 - A parte del rendimiento del sistema recomendador, ¿qué otros aspectos le parece importante medir en un sistema como el desarrollado? De uno o dos y brevemente describa (1-3 frases) por qué es relevante.\n",
        "\n",
        "\n",
        "2 - ¿Qué métrica (además de las mencionadas en clases) le podría servir para medir estos aspectos en su modelo? Enumere una o dos métricas.\n"
      ]
    }
  ],
  "metadata": {
    "accelerator": "GPU",
    "colab": {
      "collapsed_sections": [
        "fH1tvpj3vtDT",
        "sdIHECXCVool"
      ],
      "name": "Practico 5 - Recomendación.ipynb",
      "provenance": [],
      "toc_visible": true
    },
    "kernelspec": {
      "display_name": "Python 3",
      "name": "python3"
    },
    "language_info": {
      "codemirror_mode": {
        "name": "ipython",
        "version": 3
      },
      "file_extension": ".py",
      "mimetype": "text/x-python",
      "name": "python",
      "nbconvert_exporter": "python",
      "pygments_lexer": "ipython3",
      "version": "3.9.7"
    },
    "widgets": {
      "application/vnd.jupyter.widget-state+json": {
        "0a13c70d68714525b209ddedca506f05": {
          "model_module": "@jupyter-widgets/base",
          "model_module_version": "1.2.0",
          "model_name": "LayoutModel",
          "state": {
            "_model_module": "@jupyter-widgets/base",
            "_model_module_version": "1.2.0",
            "_model_name": "LayoutModel",
            "_view_count": null,
            "_view_module": "@jupyter-widgets/base",
            "_view_module_version": "1.2.0",
            "_view_name": "LayoutView",
            "align_content": null,
            "align_items": null,
            "align_self": null,
            "border": null,
            "bottom": null,
            "display": null,
            "flex": null,
            "flex_flow": null,
            "grid_area": null,
            "grid_auto_columns": null,
            "grid_auto_flow": null,
            "grid_auto_rows": null,
            "grid_column": null,
            "grid_gap": null,
            "grid_row": null,
            "grid_template_areas": null,
            "grid_template_columns": null,
            "grid_template_rows": null,
            "height": null,
            "justify_content": null,
            "justify_items": null,
            "left": null,
            "margin": null,
            "max_height": null,
            "max_width": null,
            "min_height": null,
            "min_width": null,
            "object_fit": null,
            "object_position": null,
            "order": null,
            "overflow": null,
            "overflow_x": null,
            "overflow_y": null,
            "padding": null,
            "right": null,
            "top": null,
            "visibility": null,
            "width": null
          }
        },
        "1dafb15e20ec4357ab7603aa7d1b2a95": {
          "model_module": "@jupyter-widgets/base",
          "model_module_version": "1.2.0",
          "model_name": "LayoutModel",
          "state": {
            "_model_module": "@jupyter-widgets/base",
            "_model_module_version": "1.2.0",
            "_model_name": "LayoutModel",
            "_view_count": null,
            "_view_module": "@jupyter-widgets/base",
            "_view_module_version": "1.2.0",
            "_view_name": "LayoutView",
            "align_content": null,
            "align_items": null,
            "align_self": null,
            "border": null,
            "bottom": null,
            "display": null,
            "flex": null,
            "flex_flow": null,
            "grid_area": null,
            "grid_auto_columns": null,
            "grid_auto_flow": null,
            "grid_auto_rows": null,
            "grid_column": null,
            "grid_gap": null,
            "grid_row": null,
            "grid_template_areas": null,
            "grid_template_columns": null,
            "grid_template_rows": null,
            "height": null,
            "justify_content": null,
            "justify_items": null,
            "left": null,
            "margin": null,
            "max_height": null,
            "max_width": null,
            "min_height": null,
            "min_width": null,
            "object_fit": null,
            "object_position": null,
            "order": null,
            "overflow": null,
            "overflow_x": null,
            "overflow_y": null,
            "padding": null,
            "right": null,
            "top": null,
            "visibility": null,
            "width": null
          }
        },
        "2c846dfd357f4592b8a3af4dfef6db83": {
          "model_module": "@jupyter-widgets/controls",
          "model_module_version": "1.5.0",
          "model_name": "ProgressStyleModel",
          "state": {
            "_model_module": "@jupyter-widgets/controls",
            "_model_module_version": "1.5.0",
            "_model_name": "ProgressStyleModel",
            "_view_count": null,
            "_view_module": "@jupyter-widgets/base",
            "_view_module_version": "1.2.0",
            "_view_name": "StyleView",
            "bar_color": null,
            "description_width": "initial"
          }
        },
        "447ca714ec944f12afdb666b864918a6": {
          "model_module": "@jupyter-widgets/controls",
          "model_module_version": "1.5.0",
          "model_name": "HTMLModel",
          "state": {
            "_dom_classes": [],
            "_model_module": "@jupyter-widgets/controls",
            "_model_module_version": "1.5.0",
            "_model_name": "HTMLModel",
            "_view_count": null,
            "_view_module": "@jupyter-widgets/controls",
            "_view_module_version": "1.5.0",
            "_view_name": "HTMLView",
            "description": "",
            "description_tooltip": null,
            "layout": "IPY_MODEL_f92be598d08e4d03ba121e7a06494b2a",
            "placeholder": "​",
            "style": "IPY_MODEL_8ea87f2bbcf546d59386532227b5a7e7",
            "value": " 570/570 [00:00&lt;00:00, 1.31kB/s]"
          }
        },
        "509afa84a52143d8aadad42996bd3976": {
          "model_module": "@jupyter-widgets/controls",
          "model_module_version": "1.5.0",
          "model_name": "HBoxModel",
          "state": {
            "_dom_classes": [],
            "_model_module": "@jupyter-widgets/controls",
            "_model_module_version": "1.5.0",
            "_model_name": "HBoxModel",
            "_view_count": null,
            "_view_module": "@jupyter-widgets/controls",
            "_view_module_version": "1.5.0",
            "_view_name": "HBoxView",
            "box_style": "",
            "children": [
              "IPY_MODEL_d75c539207874e86957c7364c1d8828a",
              "IPY_MODEL_f388a697d7c147acaa5308655c4aedbb"
            ],
            "layout": "IPY_MODEL_ab2598447ca647cfb9400503a4a31953"
          }
        },
        "56ca8877debf404eac9dab275cf12262": {
          "model_module": "@jupyter-widgets/base",
          "model_module_version": "1.2.0",
          "model_name": "LayoutModel",
          "state": {
            "_model_module": "@jupyter-widgets/base",
            "_model_module_version": "1.2.0",
            "_model_name": "LayoutModel",
            "_view_count": null,
            "_view_module": "@jupyter-widgets/base",
            "_view_module_version": "1.2.0",
            "_view_name": "LayoutView",
            "align_content": null,
            "align_items": null,
            "align_self": null,
            "border": null,
            "bottom": null,
            "display": null,
            "flex": null,
            "flex_flow": null,
            "grid_area": null,
            "grid_auto_columns": null,
            "grid_auto_flow": null,
            "grid_auto_rows": null,
            "grid_column": null,
            "grid_gap": null,
            "grid_row": null,
            "grid_template_areas": null,
            "grid_template_columns": null,
            "grid_template_rows": null,
            "height": null,
            "justify_content": null,
            "justify_items": null,
            "left": null,
            "margin": null,
            "max_height": null,
            "max_width": null,
            "min_height": null,
            "min_width": null,
            "object_fit": null,
            "object_position": null,
            "order": null,
            "overflow": null,
            "overflow_x": null,
            "overflow_y": null,
            "padding": null,
            "right": null,
            "top": null,
            "visibility": null,
            "width": null
          }
        },
        "69022b9aeb0145278a11fc725a8255e4": {
          "model_module": "@jupyter-widgets/controls",
          "model_module_version": "1.5.0",
          "model_name": "HBoxModel",
          "state": {
            "_dom_classes": [],
            "_model_module": "@jupyter-widgets/controls",
            "_model_module_version": "1.5.0",
            "_model_name": "HBoxModel",
            "_view_count": null,
            "_view_module": "@jupyter-widgets/controls",
            "_view_module_version": "1.5.0",
            "_view_name": "HBoxView",
            "box_style": "",
            "children": [
              "IPY_MODEL_b42ca5fdf9b44d3c877d566b71377380",
              "IPY_MODEL_447ca714ec944f12afdb666b864918a6"
            ],
            "layout": "IPY_MODEL_daf634b10972461a8212d1e89fa35923"
          }
        },
        "6cab73a7a45d4f288d2b50b6f50f893f": {
          "model_module": "@jupyter-widgets/controls",
          "model_module_version": "1.5.0",
          "model_name": "HTMLModel",
          "state": {
            "_dom_classes": [],
            "_model_module": "@jupyter-widgets/controls",
            "_model_module_version": "1.5.0",
            "_model_name": "HTMLModel",
            "_view_count": null,
            "_view_module": "@jupyter-widgets/controls",
            "_view_module_version": "1.5.0",
            "_view_name": "HTMLView",
            "description": "",
            "description_tooltip": null,
            "layout": "IPY_MODEL_1dafb15e20ec4357ab7603aa7d1b2a95",
            "placeholder": "​",
            "style": "IPY_MODEL_e88a568a71f444e1ac03ecff45511b5c",
            "value": " 232k/232k [00:00&lt;00:00, 1.46MB/s]"
          }
        },
        "84e3ed5d64a24696b632c0da3d17072c": {
          "model_module": "@jupyter-widgets/base",
          "model_module_version": "1.2.0",
          "model_name": "LayoutModel",
          "state": {
            "_model_module": "@jupyter-widgets/base",
            "_model_module_version": "1.2.0",
            "_model_name": "LayoutModel",
            "_view_count": null,
            "_view_module": "@jupyter-widgets/base",
            "_view_module_version": "1.2.0",
            "_view_name": "LayoutView",
            "align_content": null,
            "align_items": null,
            "align_self": null,
            "border": null,
            "bottom": null,
            "display": null,
            "flex": null,
            "flex_flow": null,
            "grid_area": null,
            "grid_auto_columns": null,
            "grid_auto_flow": null,
            "grid_auto_rows": null,
            "grid_column": null,
            "grid_gap": null,
            "grid_row": null,
            "grid_template_areas": null,
            "grid_template_columns": null,
            "grid_template_rows": null,
            "height": null,
            "justify_content": null,
            "justify_items": null,
            "left": null,
            "margin": null,
            "max_height": null,
            "max_width": null,
            "min_height": null,
            "min_width": null,
            "object_fit": null,
            "object_position": null,
            "order": null,
            "overflow": null,
            "overflow_x": null,
            "overflow_y": null,
            "padding": null,
            "right": null,
            "top": null,
            "visibility": null,
            "width": null
          }
        },
        "87f1ce3f5fa844e5b6ccfd7a0d5c5773": {
          "model_module": "@jupyter-widgets/controls",
          "model_module_version": "1.5.0",
          "model_name": "FloatProgressModel",
          "state": {
            "_dom_classes": [],
            "_model_module": "@jupyter-widgets/controls",
            "_model_module_version": "1.5.0",
            "_model_name": "FloatProgressModel",
            "_view_count": null,
            "_view_module": "@jupyter-widgets/controls",
            "_view_module_version": "1.5.0",
            "_view_name": "ProgressView",
            "bar_style": "success",
            "description": "Downloading: 100%",
            "description_tooltip": null,
            "layout": "IPY_MODEL_0a13c70d68714525b209ddedca506f05",
            "max": 231508,
            "min": 0,
            "orientation": "horizontal",
            "style": "IPY_MODEL_9d85379833c64e9389f94f93eced3a5d",
            "value": 231508
          }
        },
        "8ea87f2bbcf546d59386532227b5a7e7": {
          "model_module": "@jupyter-widgets/controls",
          "model_module_version": "1.5.0",
          "model_name": "DescriptionStyleModel",
          "state": {
            "_model_module": "@jupyter-widgets/controls",
            "_model_module_version": "1.5.0",
            "_model_name": "DescriptionStyleModel",
            "_view_count": null,
            "_view_module": "@jupyter-widgets/base",
            "_view_module_version": "1.2.0",
            "_view_name": "StyleView",
            "description_width": ""
          }
        },
        "9a73f9d7d9a142fa887a2da1c4d74643": {
          "model_module": "@jupyter-widgets/base",
          "model_module_version": "1.2.0",
          "model_name": "LayoutModel",
          "state": {
            "_model_module": "@jupyter-widgets/base",
            "_model_module_version": "1.2.0",
            "_model_name": "LayoutModel",
            "_view_count": null,
            "_view_module": "@jupyter-widgets/base",
            "_view_module_version": "1.2.0",
            "_view_name": "LayoutView",
            "align_content": null,
            "align_items": null,
            "align_self": null,
            "border": null,
            "bottom": null,
            "display": null,
            "flex": null,
            "flex_flow": null,
            "grid_area": null,
            "grid_auto_columns": null,
            "grid_auto_flow": null,
            "grid_auto_rows": null,
            "grid_column": null,
            "grid_gap": null,
            "grid_row": null,
            "grid_template_areas": null,
            "grid_template_columns": null,
            "grid_template_rows": null,
            "height": null,
            "justify_content": null,
            "justify_items": null,
            "left": null,
            "margin": null,
            "max_height": null,
            "max_width": null,
            "min_height": null,
            "min_width": null,
            "object_fit": null,
            "object_position": null,
            "order": null,
            "overflow": null,
            "overflow_x": null,
            "overflow_y": null,
            "padding": null,
            "right": null,
            "top": null,
            "visibility": null,
            "width": null
          }
        },
        "9d85379833c64e9389f94f93eced3a5d": {
          "model_module": "@jupyter-widgets/controls",
          "model_module_version": "1.5.0",
          "model_name": "ProgressStyleModel",
          "state": {
            "_model_module": "@jupyter-widgets/controls",
            "_model_module_version": "1.5.0",
            "_model_name": "ProgressStyleModel",
            "_view_count": null,
            "_view_module": "@jupyter-widgets/base",
            "_view_module_version": "1.2.0",
            "_view_name": "StyleView",
            "bar_color": null,
            "description_width": "initial"
          }
        },
        "ab2598447ca647cfb9400503a4a31953": {
          "model_module": "@jupyter-widgets/base",
          "model_module_version": "1.2.0",
          "model_name": "LayoutModel",
          "state": {
            "_model_module": "@jupyter-widgets/base",
            "_model_module_version": "1.2.0",
            "_model_name": "LayoutModel",
            "_view_count": null,
            "_view_module": "@jupyter-widgets/base",
            "_view_module_version": "1.2.0",
            "_view_name": "LayoutView",
            "align_content": null,
            "align_items": null,
            "align_self": null,
            "border": null,
            "bottom": null,
            "display": null,
            "flex": null,
            "flex_flow": null,
            "grid_area": null,
            "grid_auto_columns": null,
            "grid_auto_flow": null,
            "grid_auto_rows": null,
            "grid_column": null,
            "grid_gap": null,
            "grid_row": null,
            "grid_template_areas": null,
            "grid_template_columns": null,
            "grid_template_rows": null,
            "height": null,
            "justify_content": null,
            "justify_items": null,
            "left": null,
            "margin": null,
            "max_height": null,
            "max_width": null,
            "min_height": null,
            "min_width": null,
            "object_fit": null,
            "object_position": null,
            "order": null,
            "overflow": null,
            "overflow_x": null,
            "overflow_y": null,
            "padding": null,
            "right": null,
            "top": null,
            "visibility": null,
            "width": null
          }
        },
        "b42ca5fdf9b44d3c877d566b71377380": {
          "model_module": "@jupyter-widgets/controls",
          "model_module_version": "1.5.0",
          "model_name": "FloatProgressModel",
          "state": {
            "_dom_classes": [],
            "_model_module": "@jupyter-widgets/controls",
            "_model_module_version": "1.5.0",
            "_model_name": "FloatProgressModel",
            "_view_count": null,
            "_view_module": "@jupyter-widgets/controls",
            "_view_module_version": "1.5.0",
            "_view_name": "ProgressView",
            "bar_style": "success",
            "description": "Downloading: 100%",
            "description_tooltip": null,
            "layout": "IPY_MODEL_ce7d03bc382b4f10a22b2387f54aaf85",
            "max": 570,
            "min": 0,
            "orientation": "horizontal",
            "style": "IPY_MODEL_f2e8f1225c1942869d99c0e607ed264e",
            "value": 570
          }
        },
        "b9d81ac7ad0c4744934596e1dbed7da2": {
          "model_module": "@jupyter-widgets/controls",
          "model_module_version": "1.5.0",
          "model_name": "HBoxModel",
          "state": {
            "_dom_classes": [],
            "_model_module": "@jupyter-widgets/controls",
            "_model_module_version": "1.5.0",
            "_model_name": "HBoxModel",
            "_view_count": null,
            "_view_module": "@jupyter-widgets/controls",
            "_view_module_version": "1.5.0",
            "_view_name": "HBoxView",
            "box_style": "",
            "children": [
              "IPY_MODEL_87f1ce3f5fa844e5b6ccfd7a0d5c5773",
              "IPY_MODEL_6cab73a7a45d4f288d2b50b6f50f893f"
            ],
            "layout": "IPY_MODEL_84e3ed5d64a24696b632c0da3d17072c"
          }
        },
        "ce7d03bc382b4f10a22b2387f54aaf85": {
          "model_module": "@jupyter-widgets/base",
          "model_module_version": "1.2.0",
          "model_name": "LayoutModel",
          "state": {
            "_model_module": "@jupyter-widgets/base",
            "_model_module_version": "1.2.0",
            "_model_name": "LayoutModel",
            "_view_count": null,
            "_view_module": "@jupyter-widgets/base",
            "_view_module_version": "1.2.0",
            "_view_name": "LayoutView",
            "align_content": null,
            "align_items": null,
            "align_self": null,
            "border": null,
            "bottom": null,
            "display": null,
            "flex": null,
            "flex_flow": null,
            "grid_area": null,
            "grid_auto_columns": null,
            "grid_auto_flow": null,
            "grid_auto_rows": null,
            "grid_column": null,
            "grid_gap": null,
            "grid_row": null,
            "grid_template_areas": null,
            "grid_template_columns": null,
            "grid_template_rows": null,
            "height": null,
            "justify_content": null,
            "justify_items": null,
            "left": null,
            "margin": null,
            "max_height": null,
            "max_width": null,
            "min_height": null,
            "min_width": null,
            "object_fit": null,
            "object_position": null,
            "order": null,
            "overflow": null,
            "overflow_x": null,
            "overflow_y": null,
            "padding": null,
            "right": null,
            "top": null,
            "visibility": null,
            "width": null
          }
        },
        "d75c539207874e86957c7364c1d8828a": {
          "model_module": "@jupyter-widgets/controls",
          "model_module_version": "1.5.0",
          "model_name": "FloatProgressModel",
          "state": {
            "_dom_classes": [],
            "_model_module": "@jupyter-widgets/controls",
            "_model_module_version": "1.5.0",
            "_model_name": "FloatProgressModel",
            "_view_count": null,
            "_view_module": "@jupyter-widgets/controls",
            "_view_module_version": "1.5.0",
            "_view_name": "ProgressView",
            "bar_style": "success",
            "description": "Downloading: 100%",
            "description_tooltip": null,
            "layout": "IPY_MODEL_9a73f9d7d9a142fa887a2da1c4d74643",
            "max": 440473133,
            "min": 0,
            "orientation": "horizontal",
            "style": "IPY_MODEL_2c846dfd357f4592b8a3af4dfef6db83",
            "value": 440473133
          }
        },
        "daf634b10972461a8212d1e89fa35923": {
          "model_module": "@jupyter-widgets/base",
          "model_module_version": "1.2.0",
          "model_name": "LayoutModel",
          "state": {
            "_model_module": "@jupyter-widgets/base",
            "_model_module_version": "1.2.0",
            "_model_name": "LayoutModel",
            "_view_count": null,
            "_view_module": "@jupyter-widgets/base",
            "_view_module_version": "1.2.0",
            "_view_name": "LayoutView",
            "align_content": null,
            "align_items": null,
            "align_self": null,
            "border": null,
            "bottom": null,
            "display": null,
            "flex": null,
            "flex_flow": null,
            "grid_area": null,
            "grid_auto_columns": null,
            "grid_auto_flow": null,
            "grid_auto_rows": null,
            "grid_column": null,
            "grid_gap": null,
            "grid_row": null,
            "grid_template_areas": null,
            "grid_template_columns": null,
            "grid_template_rows": null,
            "height": null,
            "justify_content": null,
            "justify_items": null,
            "left": null,
            "margin": null,
            "max_height": null,
            "max_width": null,
            "min_height": null,
            "min_width": null,
            "object_fit": null,
            "object_position": null,
            "order": null,
            "overflow": null,
            "overflow_x": null,
            "overflow_y": null,
            "padding": null,
            "right": null,
            "top": null,
            "visibility": null,
            "width": null
          }
        },
        "e88a568a71f444e1ac03ecff45511b5c": {
          "model_module": "@jupyter-widgets/controls",
          "model_module_version": "1.5.0",
          "model_name": "DescriptionStyleModel",
          "state": {
            "_model_module": "@jupyter-widgets/controls",
            "_model_module_version": "1.5.0",
            "_model_name": "DescriptionStyleModel",
            "_view_count": null,
            "_view_module": "@jupyter-widgets/base",
            "_view_module_version": "1.2.0",
            "_view_name": "StyleView",
            "description_width": ""
          }
        },
        "f02596b390564996929e19f9f8d7d12e": {
          "model_module": "@jupyter-widgets/controls",
          "model_module_version": "1.5.0",
          "model_name": "DescriptionStyleModel",
          "state": {
            "_model_module": "@jupyter-widgets/controls",
            "_model_module_version": "1.5.0",
            "_model_name": "DescriptionStyleModel",
            "_view_count": null,
            "_view_module": "@jupyter-widgets/base",
            "_view_module_version": "1.2.0",
            "_view_name": "StyleView",
            "description_width": ""
          }
        },
        "f2e8f1225c1942869d99c0e607ed264e": {
          "model_module": "@jupyter-widgets/controls",
          "model_module_version": "1.5.0",
          "model_name": "ProgressStyleModel",
          "state": {
            "_model_module": "@jupyter-widgets/controls",
            "_model_module_version": "1.5.0",
            "_model_name": "ProgressStyleModel",
            "_view_count": null,
            "_view_module": "@jupyter-widgets/base",
            "_view_module_version": "1.2.0",
            "_view_name": "StyleView",
            "bar_color": null,
            "description_width": "initial"
          }
        },
        "f388a697d7c147acaa5308655c4aedbb": {
          "model_module": "@jupyter-widgets/controls",
          "model_module_version": "1.5.0",
          "model_name": "HTMLModel",
          "state": {
            "_dom_classes": [],
            "_model_module": "@jupyter-widgets/controls",
            "_model_module_version": "1.5.0",
            "_model_name": "HTMLModel",
            "_view_count": null,
            "_view_module": "@jupyter-widgets/controls",
            "_view_module_version": "1.5.0",
            "_view_name": "HTMLView",
            "description": "",
            "description_tooltip": null,
            "layout": "IPY_MODEL_56ca8877debf404eac9dab275cf12262",
            "placeholder": "​",
            "style": "IPY_MODEL_f02596b390564996929e19f9f8d7d12e",
            "value": " 440M/440M [04:14&lt;00:00, 1.73MB/s]"
          }
        },
        "f92be598d08e4d03ba121e7a06494b2a": {
          "model_module": "@jupyter-widgets/base",
          "model_module_version": "1.2.0",
          "model_name": "LayoutModel",
          "state": {
            "_model_module": "@jupyter-widgets/base",
            "_model_module_version": "1.2.0",
            "_model_name": "LayoutModel",
            "_view_count": null,
            "_view_module": "@jupyter-widgets/base",
            "_view_module_version": "1.2.0",
            "_view_name": "LayoutView",
            "align_content": null,
            "align_items": null,
            "align_self": null,
            "border": null,
            "bottom": null,
            "display": null,
            "flex": null,
            "flex_flow": null,
            "grid_area": null,
            "grid_auto_columns": null,
            "grid_auto_flow": null,
            "grid_auto_rows": null,
            "grid_column": null,
            "grid_gap": null,
            "grid_row": null,
            "grid_template_areas": null,
            "grid_template_columns": null,
            "grid_template_rows": null,
            "height": null,
            "justify_content": null,
            "justify_items": null,
            "left": null,
            "margin": null,
            "max_height": null,
            "max_width": null,
            "min_height": null,
            "min_width": null,
            "object_fit": null,
            "object_position": null,
            "order": null,
            "overflow": null,
            "overflow_x": null,
            "overflow_y": null,
            "padding": null,
            "right": null,
            "top": null,
            "visibility": null,
            "width": null
          }
        }
      }
    }
  },
  "nbformat": 4,
  "nbformat_minor": 0
}
